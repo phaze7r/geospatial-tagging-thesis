import pandas as pd


df = pd.read_excel('../data/islamabad_osm_data.csv')
