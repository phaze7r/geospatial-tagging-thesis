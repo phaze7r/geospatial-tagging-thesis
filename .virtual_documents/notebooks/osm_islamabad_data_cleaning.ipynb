import pandas as pd


df = pd.read_csv('../data/islamabad_osm_data.csv')


print("Original dataset shape:", df.shape)


# Define Islamabad bounding box coordinates
# Format: min_lat, min_lon, max_lat, max_lon
min_lat, min_lon, max_lat, max_lon = 33.4734, 72.8397, 33.7480, 73.2047


# Filter data within Islamabad bounding box
islamabad_filter = (
    (df['latitude'] >= min_lat) & 
    (df['latitude'] <= max_lat) & 
    (df['longitude'] >= min_lon) & 
    (df['longitude'] <= max_lon)
)
df_cleaned = df[islamabad_filter].copy()


print(f"After coordinate filtering: {df_cleaned.shape}")
print(f"Removed {df.shape[0] - df_cleaned.shape[0]} rows ({((df.shape[0] - df_cleaned.shape[0])/df.shape[0]*100):.1f}%)")


# Data quality checks
print("\nMissing values in key columns:")
for col in ['description', 'osm_tag_key', 'osm_tag_value', 'latitude', 'longitude']:
    missing = df_cleaned[col].isnull().sum()
    print(f"{col}: {missing} ({missing/len(df_cleaned)*100:.1f}%)")


print(f"\nDuplicate rows: {df_cleaned.duplicated().sum()}")


print("\nLanguage distribution:")
print(df_cleaned['language'].value_counts())

print("\nTop OSM tag keys:")
print(df_cleaned['osm_tag_key'].value_counts().head(10))

print("\nTop OSM tag values:")
print(df_cleaned['osm_tag_value'].value_counts().head(10))


# Remove rows with missing critical information
df_final = df_cleaned.dropna(subset=['description', 'osm_tag_key', 'osm_tag_value', 'latitude', 'longitude']).copy()

print(f"\nFinal dataset shape: {df_final.shape}")


# Save cleaned data
df_final.to_excel('../data/osm_islamabad_cleaned.xlsx', index=False)
df_final.to_csv('../data/osm_islamabad_cleaned.csv', index=False)

print("\n✅ Cleaned datasets saved as 'osm_islamabad_cleaned.xlsx' and 'osm_islamabad_cleaned.csv' in the data directory.")


df =pd.read_csv('../data/osm_islamabad_cleaned.csv')


print("First 5 rows of the cleaned Islamabad data:")
print(df_cleaned.head())


# Display basic information about the DataFrame (columns, non-null counts, dtypes)
print("\nDataFrame Info:")
df_cleaned.info()


# Display descriptive statistics for numerical columns
print("\nDescriptive Statistics:")
print(df_cleaned.describe())

# You can also check specific columns if you have concerns
# For example, to check unique values in 'language'
print("\nUnique values in 'language' column:")
print(df_cleaned['language'].value_counts())

# Or to check unique values in 'osm_tag_key'
print("\nUnique values in 'osm_tag_key' column (top 10):")
print(df_cleaned['osm_tag_key'].value_counts().head(10))


df.columns


df.describe()


df.info()


df.head(50)



