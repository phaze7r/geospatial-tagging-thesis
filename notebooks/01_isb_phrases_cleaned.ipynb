{
 "cells": [
  {
   "cell_type": "code",
   "id": "initial_id",
   "metadata": {
    "collapsed": true,
    "ExecuteTime": {
     "end_time": "2025-07-30T05:31:33.298193Z",
     "start_time": "2025-07-30T05:31:32.170588Z"
    }
   },
   "source": [
    "import pandas as pd\n",
    "import numpy as np\n",
    "import re\n",
    "import string\n",
    "from collections import Counter\n",
    "import nltk\n",
    "from nltk.corpus import stopwords\n",
    "from nltk.tokenize import word_tokenize\n",
    "from nltk.stem import WordNetLemmatizer\n",
    "from nltk.tag import pos_tag"
   ],
   "outputs": [],
   "execution_count": 1
  },
  {
   "metadata": {
    "ExecuteTime": {
     "end_time": "2025-07-30T05:31:40.753651Z",
     "start_time": "2025-07-30T05:31:40.390441Z"
    }
   },
   "cell_type": "code",
   "source": [
    "# Download required NLTK data (run once)\n",
    "nltk.download('punkt')\n",
    "nltk.download('stopwords')\n",
    "nltk.download('wordnet')\n",
    "nltk.download('averaged_perceptron_tagger')"
   ],
   "id": "d039f0af3815744b",
   "outputs": [
    {
     "name": "stderr",
     "output_type": "stream",
     "text": [
      "[nltk_data] Downloading package punkt to\n",
      "[nltk_data]     C:\\Users\\stran\\AppData\\Roaming\\nltk_data...\n",
      "[nltk_data]   Package punkt is already up-to-date!\n",
      "[nltk_data] Downloading package stopwords to\n",
      "[nltk_data]     C:\\Users\\stran\\AppData\\Roaming\\nltk_data...\n",
      "[nltk_data]   Package stopwords is already up-to-date!\n",
      "[nltk_data] Downloading package wordnet to\n",
      "[nltk_data]     C:\\Users\\stran\\AppData\\Roaming\\nltk_data...\n",
      "[nltk_data]   Package wordnet is already up-to-date!\n",
      "[nltk_data] Downloading package averaged_perceptron_tagger to\n",
      "[nltk_data]     C:\\Users\\stran\\AppData\\Roaming\\nltk_data...\n",
      "[nltk_data]   Package averaged_perceptron_tagger is already up-to-\n",
      "[nltk_data]       date!\n"
     ]
    },
    {
     "data": {
      "text/plain": [
       "True"
      ]
     },
     "execution_count": 2,
     "metadata": {},
     "output_type": "execute_result"
    }
   ],
   "execution_count": 2
  },
  {
   "metadata": {
    "ExecuteTime": {
     "end_time": "2025-07-30T05:32:05.880831Z",
     "start_time": "2025-07-30T05:32:05.858778Z"
    }
   },
   "cell_type": "code",
   "source": "df = pd.read_csv('../data/islamabad_extracted_phrases_cleaned.csv')",
   "id": "603cca432a5c9ed3",
   "outputs": [],
   "execution_count": 3
  },
  {
   "metadata": {
    "ExecuteTime": {
     "end_time": "2025-07-30T05:32:16.094487Z",
     "start_time": "2025-07-30T05:32:16.083407Z"
    }
   },
   "cell_type": "code",
   "source": [
    "print(f\"Original dataset shape: {df.shape}\")\n",
    "print(f\"Columns: {df.columns.tolist()}\")\n",
    "print(\"\\nFirst few rows:\")\n",
    "print(df.head())"
   ],
   "id": "b7e7a41d9d7bb9f3",
   "outputs": [
    {
     "name": "stdout",
     "output_type": "stream",
     "text": [
      "Original dataset shape: (418, 10)\n",
      "Columns: ['description', 'sentence_context', 'phrase_type', 'language', 'location', 'osm_tag_key', 'osm_tag_value', 'source', 'coordinates', 'extracted_at']\n",
      "\n",
      "First few rows:\n",
      "         description                                   sentence_context  \\\n",
      "0  the northern part  Some people might want to skip the city and ju...   \n",
      "1  any other capital  Islamabad is not just like any other capital c...   \n",
      "2       other cities  The city is unique and it is very different fr...   \n",
      "3   beautiful places  There are a lot of things to do and beautiful ...   \n",
      "4      the best time      When is the best time to travel to Islamabad?   \n",
      "\n",
      "      phrase_type language   location  osm_tag_key  osm_tag_value  \\\n",
      "0  adjective_noun  English  Islamabad          NaN            NaN   \n",
      "1  adjective_noun  English  Islamabad          NaN            NaN   \n",
      "2  adjective_noun  English  Islamabad          NaN            NaN   \n",
      "3  adjective_noun  English  Islamabad          NaN            NaN   \n",
      "4  adjective_noun  English  Islamabad          NaN            NaN   \n",
      "\n",
      "                                              source  coordinates  \\\n",
      "0  https://travelwithmansoureh.com/blog/travel-gu...          NaN   \n",
      "1  https://travelwithmansoureh.com/blog/travel-gu...          NaN   \n",
      "2  https://travelwithmansoureh.com/blog/travel-gu...          NaN   \n",
      "3  https://travelwithmansoureh.com/blog/travel-gu...          NaN   \n",
      "4  https://travelwithmansoureh.com/blog/travel-gu...          NaN   \n",
      "\n",
      "                 extracted_at  \n",
      "0  2025-07-30T07:56:06.093655  \n",
      "1  2025-07-30T07:56:06.093655  \n",
      "2  2025-07-30T07:56:06.093655  \n",
      "3  2025-07-30T07:56:06.093655  \n",
      "4  2025-07-30T07:56:06.093655  \n"
     ]
    }
   ],
   "execution_count": 4
  },
  {
   "metadata": {
    "ExecuteTime": {
     "end_time": "2025-07-30T05:32:30.231203Z",
     "start_time": "2025-07-30T05:32:30.213600Z"
    }
   },
   "cell_type": "code",
   "source": [
    "# Initialize preprocessing tools\n",
    "lemmatizer = WordNetLemmatizer()\n",
    "stop_words = set(stopwords.words('english'))"
   ],
   "id": "72dd6e128e1b30c1",
   "outputs": [],
   "execution_count": 5
  }
 ],
 "metadata": {
  "kernelspec": {
   "display_name": "Python 3",
   "language": "python",
   "name": "python3"
  },
  "language_info": {
   "codemirror_mode": {
    "name": "ipython",
    "version": 2
   },
   "file_extension": ".py",
   "mimetype": "text/x-python",
   "name": "python",
   "nbconvert_exporter": "python",
   "pygments_lexer": "ipython2",
   "version": "2.7.6"
  }
 },
 "nbformat": 4,
 "nbformat_minor": 5
}
