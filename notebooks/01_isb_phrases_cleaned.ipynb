{
 "cells": [
  {
   "cell_type": "code",
   "id": "initial_id",
   "metadata": {
    "collapsed": true,
    "ExecuteTime": {
     "end_time": "2025-07-30T05:31:33.298193Z",
     "start_time": "2025-07-30T05:31:32.170588Z"
    }
   },
   "source": [
    "import pandas as pd\n",
    "import numpy as np\n",
    "import re\n",
    "import string\n",
    "from collections import Counter\n",
    "import nltk\n",
    "from nltk.corpus import stopwords\n",
    "from nltk.tokenize import word_tokenize\n",
    "from nltk.stem import WordNetLemmatizer\n",
    "from nltk.tag import pos_tag"
   ],
   "outputs": [],
   "execution_count": 1
  },
  {
   "metadata": {
    "ExecuteTime": {
     "end_time": "2025-07-30T05:31:40.753651Z",
     "start_time": "2025-07-30T05:31:40.390441Z"
    }
   },
   "cell_type": "code",
   "source": [
    "# Download required NLTK data (run once)\n",
    "nltk.download('punkt')\n",
    "nltk.download('stopwords')\n",
    "nltk.download('wordnet')\n",
    "nltk.download('averaged_perceptron_tagger')"
   ],
   "id": "d039f0af3815744b",
   "outputs": [
    {
     "name": "stderr",
     "output_type": "stream",
     "text": [
      "[nltk_data] Downloading package punkt to\n",
      "[nltk_data]     C:\\Users\\stran\\AppData\\Roaming\\nltk_data...\n",
      "[nltk_data]   Package punkt is already up-to-date!\n",
      "[nltk_data] Downloading package stopwords to\n",
      "[nltk_data]     C:\\Users\\stran\\AppData\\Roaming\\nltk_data...\n",
      "[nltk_data]   Package stopwords is already up-to-date!\n",
      "[nltk_data] Downloading package wordnet to\n",
      "[nltk_data]     C:\\Users\\stran\\AppData\\Roaming\\nltk_data...\n",
      "[nltk_data]   Package wordnet is already up-to-date!\n",
      "[nltk_data] Downloading package averaged_perceptron_tagger to\n",
      "[nltk_data]     C:\\Users\\stran\\AppData\\Roaming\\nltk_data...\n",
      "[nltk_data]   Package averaged_perceptron_tagger is already up-to-\n",
      "[nltk_data]       date!\n"
     ]
    },
    {
     "data": {
      "text/plain": [
       "True"
      ]
     },
     "execution_count": 2,
     "metadata": {},
     "output_type": "execute_result"
    }
   ],
   "execution_count": 2
  },
  {
   "metadata": {
    "ExecuteTime": {
     "end_time": "2025-07-30T05:32:05.880831Z",
     "start_time": "2025-07-30T05:32:05.858778Z"
    }
   },
   "cell_type": "code",
   "source": "df = pd.read_csv('../data/islamabad_extracted_phrases_cleaned.csv')",
   "id": "603cca432a5c9ed3",
   "outputs": [],
   "execution_count": 3
  },
  {
   "metadata": {
    "ExecuteTime": {
     "end_time": "2025-07-30T05:32:16.094487Z",
     "start_time": "2025-07-30T05:32:16.083407Z"
    }
   },
   "cell_type": "code",
   "source": [
    "print(f\"Original dataset shape: {df.shape}\")\n",
    "print(f\"Columns: {df.columns.tolist()}\")\n",
    "print(\"\\nFirst few rows:\")\n",
    "print(df.head())"
   ],
   "id": "b7e7a41d9d7bb9f3",
   "outputs": [
    {
     "name": "stdout",
     "output_type": "stream",
     "text": [
      "Original dataset shape: (418, 10)\n",
      "Columns: ['description', 'sentence_context', 'phrase_type', 'language', 'location', 'osm_tag_key', 'osm_tag_value', 'source', 'coordinates', 'extracted_at']\n",
      "\n",
      "First few rows:\n",
      "         description                                   sentence_context  \\\n",
      "0  the northern part  Some people might want to skip the city and ju...   \n",
      "1  any other capital  Islamabad is not just like any other capital c...   \n",
      "2       other cities  The city is unique and it is very different fr...   \n",
      "3   beautiful places  There are a lot of things to do and beautiful ...   \n",
      "4      the best time      When is the best time to travel to Islamabad?   \n",
      "\n",
      "      phrase_type language   location  osm_tag_key  osm_tag_value  \\\n",
      "0  adjective_noun  English  Islamabad          NaN            NaN   \n",
      "1  adjective_noun  English  Islamabad          NaN            NaN   \n",
      "2  adjective_noun  English  Islamabad          NaN            NaN   \n",
      "3  adjective_noun  English  Islamabad          NaN            NaN   \n",
      "4  adjective_noun  English  Islamabad          NaN            NaN   \n",
      "\n",
      "                                              source  coordinates  \\\n",
      "0  https://travelwithmansoureh.com/blog/travel-gu...          NaN   \n",
      "1  https://travelwithmansoureh.com/blog/travel-gu...          NaN   \n",
      "2  https://travelwithmansoureh.com/blog/travel-gu...          NaN   \n",
      "3  https://travelwithmansoureh.com/blog/travel-gu...          NaN   \n",
      "4  https://travelwithmansoureh.com/blog/travel-gu...          NaN   \n",
      "\n",
      "                 extracted_at  \n",
      "0  2025-07-30T07:56:06.093655  \n",
      "1  2025-07-30T07:56:06.093655  \n",
      "2  2025-07-30T07:56:06.093655  \n",
      "3  2025-07-30T07:56:06.093655  \n",
      "4  2025-07-30T07:56:06.093655  \n"
     ]
    }
   ],
   "execution_count": 4
  },
  {
   "metadata": {
    "ExecuteTime": {
     "end_time": "2025-07-30T05:43:37.729123Z",
     "start_time": "2025-07-30T05:43:36.188363Z"
    }
   },
   "cell_type": "code",
   "source": [
    "nltk.download('punkt_tab')\n",
    "nltk.download('averaged_perceptron_tagger_eng')"
   ],
   "id": "2891e2b588cd58e4",
   "outputs": [
    {
     "name": "stderr",
     "output_type": "stream",
     "text": [
      "[nltk_data] Downloading package punkt_tab to\n",
      "[nltk_data]     C:\\Users\\stran\\AppData\\Roaming\\nltk_data...\n",
      "[nltk_data]   Package punkt_tab is already up-to-date!\n",
      "[nltk_data] Downloading package averaged_perceptron_tagger_eng to\n",
      "[nltk_data]     C:\\Users\\stran\\AppData\\Roaming\\nltk_data...\n",
      "[nltk_data]   Unzipping taggers\\averaged_perceptron_tagger_eng.zip.\n"
     ]
    },
    {
     "data": {
      "text/plain": [
       "True"
      ]
     },
     "execution_count": 24,
     "metadata": {},
     "output_type": "execute_result"
    }
   ],
   "execution_count": 24
  },
  {
   "metadata": {
    "ExecuteTime": {
     "end_time": "2025-07-30T05:43:40.557247Z",
     "start_time": "2025-07-30T05:43:40.024442Z"
    }
   },
   "cell_type": "code",
   "source": [
    "# Initialize preprocessing tools\n",
    "lemmatizer = WordNetLemmatizer()\n",
    "stop_words = set(stopwords.words('english'))\n",
    "\n",
    "# Add custom stopwords for geospatial context\n",
    "custom_stopwords = {'place', 'area', 'location', 'spot', 'site', 'near', 'close', 'around'}\n",
    "stop_words.update(custom_stopwords)\n",
    "\n",
    "def clean_text(text):\n",
    "    \"\"\"Clean and normalize text\"\"\"\n",
    "    if pd.isna(text):\n",
    "        return \"\"\n",
    "\n",
    "    # Convert to lowercase\n",
    "    text = str(text).lower()\n",
    "\n",
    "    # Remove URLs\n",
    "    text = re.sub(r'http\\S+|www\\S+|https\\S+', '', text, flags=re.MULTILINE)\n",
    "\n",
    "    # Remove email addresses\n",
    "    text = re.sub(r'\\S+@\\S+', '', text)\n",
    "\n",
    "    # Remove extra whitespace and newlines\n",
    "    text = re.sub(r'\\s+', ' ', text)\n",
    "\n",
    "    # Remove punctuation but keep hyphens in compound words\n",
    "    text = re.sub(r'[^\\w\\s-]', ' ', text)\n",
    "\n",
    "    return text.strip()\n",
    "\n",
    "def extract_adjective_noun_patterns(text):\n",
    "    \"\"\"Extract adjective-noun patterns for OSM tagging\"\"\"\n",
    "    if not text:\n",
    "        return []\n",
    "\n",
    "    tokens = word_tokenize(text)\n",
    "    pos_tags = pos_tag(tokens)\n",
    "\n",
    "    patterns = []\n",
    "    for i in range(len(pos_tags) - 1):\n",
    "        current_word, current_pos = pos_tags[i]\n",
    "        next_word, next_pos = pos_tags[i + 1]\n",
    "\n",
    "        # Extract adjective-noun patterns\n",
    "        if current_pos.startswith('JJ') and next_pos.startswith('NN'):\n",
    "            if current_word not in stop_words and next_word not in stop_words:\n",
    "                pattern = f\"{current_word}_{next_word}\"\n",
    "                patterns.append(pattern)\n",
    "\n",
    "    return patterns\n",
    "\n",
    "def preprocess_description(text):\n",
    "    \"\"\"Complete preprocessing pipeline for descriptions\"\"\"\n",
    "    # Clean text\n",
    "    cleaned = clean_text(text)\n",
    "\n",
    "    if not cleaned:\n",
    "        return \"\", []\n",
    "\n",
    "    # Tokenize and remove stopwords\n",
    "    tokens = word_tokenize(cleaned)\n",
    "    tokens = [token for token in tokens if token not in stop_words and len(token) > 2]\n",
    "\n",
    "    # Lemmatize\n",
    "    tokens = [lemmatizer.lemmatize(token) for token in tokens]\n",
    "\n",
    "    # Join back to text\n",
    "    processed_text = ' '.join(tokens)\n",
    "\n",
    "    # Extract patterns\n",
    "    patterns = extract_adjective_noun_patterns(cleaned)\n",
    "\n",
    "    return processed_text, patterns\n",
    "\n",
    "# Now you can run your preprocessing lines:\n",
    "print(\"\\nPreprocessing descriptions...\")\n",
    "df['cleaned_description'] = df['description'].apply(lambda x: preprocess_description(x)[0])\n",
    "df['adjective_noun_patterns'] = df['description'].apply(lambda x: preprocess_description(x)[1])"
   ],
   "id": "ba70c7b4f7cd6fa1",
   "outputs": [
    {
     "name": "stdout",
     "output_type": "stream",
     "text": [
      "\n",
      "Preprocessing descriptions...\n"
     ]
    }
   ],
   "execution_count": 25
  },
  {
   "metadata": {
    "ExecuteTime": {
     "end_time": "2025-07-30T05:44:20.935373Z",
     "start_time": "2025-07-30T05:44:20.926887Z"
    }
   },
   "cell_type": "code",
   "source": "df = df[df['cleaned_description'].str.len() > 0]",
   "id": "f173bca527462b48",
   "outputs": [],
   "execution_count": 26
  },
  {
   "metadata": {
    "ExecuteTime": {
     "end_time": "2025-07-30T05:44:38.396931Z",
     "start_time": "2025-07-30T05:44:38.387715Z"
    }
   },
   "cell_type": "code",
   "source": [
    "# Create pattern frequency analysis\n",
    "all_patterns = []\n",
    "for patterns in df['adjective_noun_patterns']:\n",
    "    all_patterns.extend(patterns)\n",
    "\n",
    "pattern_freq = Counter(all_patterns)\n",
    "print(f\"\\nTop 10 most frequent adjective-noun patterns:\")\n",
    "for pattern, freq in pattern_freq.most_common(10):\n",
    "    print(f\"{pattern}: {freq}\")"
   ],
   "id": "8c1eaf9a96690330",
   "outputs": [
    {
     "name": "stdout",
     "output_type": "stream",
     "text": [
      "\n",
      "Top 10 most frequent adjective-noun patterns:\n",
      "beautiful_places: 5\n",
      "largest_mosque: 3\n",
      "famous_places: 3\n",
      "beautiful_view: 3\n",
      "national_park: 3\n",
      "local_sim: 3\n",
      "northern_part: 2\n",
      "best_time: 2\n",
      "good_restaurants: 2\n",
      "popular_picnic: 2\n"
     ]
    }
   ],
   "execution_count": 27
  },
  {
   "metadata": {
    "ExecuteTime": {
     "end_time": "2025-07-30T05:46:27.822042Z",
     "start_time": "2025-07-30T05:46:27.813618Z"
    }
   },
   "cell_type": "code",
   "source": [
    "# Standardize OSM tags (if columns exist)\n",
    "if 'osm_tag_key' in df.columns:\n",
    "    df['osm_tag_key'] = df['osm_tag_key'].astype(str).str.lower().str.strip()\n",
    "\n",
    "if 'osm_tag_value' in df.columns:\n",
    "    df['osm_tag_value'] = df['osm_tag_value'].astype(str).str.lower().str.strip()"
   ],
   "id": "725ad901406627d6",
   "outputs": [],
   "execution_count": 29
  },
  {
   "metadata": {
    "ExecuteTime": {
     "end_time": "2025-07-30T05:46:35.095707Z",
     "start_time": "2025-07-30T05:46:35.088115Z"
    }
   },
   "cell_type": "code",
   "source": [
    "# Handle missing values\n",
    "print(f\"\\nMissing values before cleaning:\")\n",
    "print(df.isnull().sum())"
   ],
   "id": "77bc4821f87541a2",
   "outputs": [
    {
     "name": "stdout",
     "output_type": "stream",
     "text": [
      "\n",
      "Missing values before cleaning:\n",
      "description                  0\n",
      "sentence_context             0\n",
      "phrase_type                  0\n",
      "language                     0\n",
      "location                     0\n",
      "osm_tag_key                  0\n",
      "osm_tag_value                0\n",
      "source                       0\n",
      "coordinates                371\n",
      "extracted_at                 0\n",
      "cleaned_description          0\n",
      "adjective_noun_patterns      0\n",
      "dtype: int64\n"
     ]
    }
   ],
   "execution_count": 30
  },
  {
   "metadata": {
    "ExecuteTime": {
     "end_time": "2025-07-30T05:46:54.876982Z",
     "start_time": "2025-07-30T05:46:54.871712Z"
    }
   },
   "cell_type": "code",
   "source": [
    "if 'coordinates' in df.columns:\n",
    "    df['coordinates'] = df['coordinates'].fillna('[73.0479, 33.6844]')  # Islamabad center"
   ],
   "id": "4c9e8921b792a263",
   "outputs": [],
   "execution_count": 31
  },
  {
   "metadata": {
    "ExecuteTime": {
     "end_time": "2025-07-30T05:47:07.428922Z",
     "start_time": "2025-07-30T05:47:07.421366Z"
    }
   },
   "cell_type": "code",
   "source": [
    "# Remove duplicates based on cleaned description\n",
    "df_deduplicated = df.drop_duplicates(subset=['cleaned_description'], keep='first')\n",
    "print(f\"\\nRemoved {len(df) - len(df_deduplicated)} duplicate descriptions\")"
   ],
   "id": "5019f7cd5af32131",
   "outputs": [
    {
     "name": "stdout",
     "output_type": "stream",
     "text": [
      "\n",
      "Removed 54 duplicate descriptions\n"
     ]
    }
   ],
   "execution_count": 32
  },
  {
   "metadata": {
    "ExecuteTime": {
     "end_time": "2025-07-30T05:47:26.550539Z",
     "start_time": "2025-07-30T05:47:26.542072Z"
    }
   },
   "cell_type": "code",
   "source": [
    "# Create additional features for analysis\n",
    "df_deduplicated['description_length'] = df_deduplicated['cleaned_description'].str.len()\n",
    "df_deduplicated['word_count'] = df_deduplicated['cleaned_description'].str.split().str.len()\n",
    "df_deduplicated['pattern_count'] = df_deduplicated['adjective_noun_patterns'].str.len()"
   ],
   "id": "90e3f7c70324657a",
   "outputs": [
    {
     "name": "stderr",
     "output_type": "stream",
     "text": [
      "C:\\Users\\stran\\AppData\\Local\\Temp\\ipykernel_4716\\1897566218.py:2: SettingWithCopyWarning: \n",
      "A value is trying to be set on a copy of a slice from a DataFrame.\n",
      "Try using .loc[row_indexer,col_indexer] = value instead\n",
      "\n",
      "See the caveats in the documentation: https://pandas.pydata.org/pandas-docs/stable/user_guide/indexing.html#returning-a-view-versus-a-copy\n",
      "  df_deduplicated['description_length'] = df_deduplicated['cleaned_description'].str.len()\n",
      "C:\\Users\\stran\\AppData\\Local\\Temp\\ipykernel_4716\\1897566218.py:3: SettingWithCopyWarning: \n",
      "A value is trying to be set on a copy of a slice from a DataFrame.\n",
      "Try using .loc[row_indexer,col_indexer] = value instead\n",
      "\n",
      "See the caveats in the documentation: https://pandas.pydata.org/pandas-docs/stable/user_guide/indexing.html#returning-a-view-versus-a-copy\n",
      "  df_deduplicated['word_count'] = df_deduplicated['cleaned_description'].str.split().str.len()\n",
      "C:\\Users\\stran\\AppData\\Local\\Temp\\ipykernel_4716\\1897566218.py:4: SettingWithCopyWarning: \n",
      "A value is trying to be set on a copy of a slice from a DataFrame.\n",
      "Try using .loc[row_indexer,col_indexer] = value instead\n",
      "\n",
      "See the caveats in the documentation: https://pandas.pydata.org/pandas-docs/stable/user_guide/indexing.html#returning-a-view-versus-a-copy\n",
      "  df_deduplicated['pattern_count'] = df_deduplicated['adjective_noun_patterns'].str.len()\n"
     ]
    }
   ],
   "execution_count": 33
  },
  {
   "metadata": {
    "ExecuteTime": {
     "end_time": "2025-07-30T05:48:12.563785Z",
     "start_time": "2025-07-30T05:48:12.544406Z"
    }
   },
   "cell_type": "code",
   "source": [
    "# Summary statistics\n",
    "print(f\"\\nFinal dataset shape: {df_deduplicated.shape}\")\n",
    "print(f\"\\nDescription statistics:\")\n",
    "print(df_deduplicated[['description_length', 'word_count', 'pattern_count']].describe())"
   ],
   "id": "28c326ac4f2ff5ce",
   "outputs": [
    {
     "name": "stdout",
     "output_type": "stream",
     "text": [
      "\n",
      "Final dataset shape: (317, 15)\n",
      "\n",
      "Description statistics:\n",
      "       description_length  word_count  pattern_count\n",
      "count          317.000000  317.000000     317.000000\n",
      "mean            12.567823    1.895899       0.577287\n",
      "std              6.941389    0.874326       0.513601\n",
      "min              3.000000    1.000000       0.000000\n",
      "25%              9.000000    2.000000       0.000000\n",
      "50%             12.000000    2.000000       1.000000\n",
      "75%             15.000000    2.000000       1.000000\n",
      "max             79.000000   11.000000       2.000000\n"
     ]
    }
   ],
   "execution_count": 34
  },
  {
   "metadata": {
    "ExecuteTime": {
     "end_time": "2025-07-30T05:48:21.053599Z",
     "start_time": "2025-07-30T05:48:21.025445Z"
    }
   },
   "cell_type": "code",
   "source": "df.head(10)",
   "id": "e0becf6e953ee487",
   "outputs": [
    {
     "data": {
      "text/plain": [
       "         description                                   sentence_context  \\\n",
       "0  the northern part  Some people might want to skip the city and ju...   \n",
       "1  any other capital  Islamabad is not just like any other capital c...   \n",
       "2       other cities  The city is unique and it is very different fr...   \n",
       "3   beautiful places  There are a lot of things to do and beautiful ...   \n",
       "4      the best time      When is the best time to travel to Islamabad?   \n",
       "5   the hottest time  Mid-July is considered the hottest time of the...   \n",
       "6    the hot seasons  It is best to avoid travelling to Pakistan dur...   \n",
       "7      Many tourists  Many tourists prefer to travel to Islamabad be...   \n",
       "8    the best months  Moreover, these months are considered the best...   \n",
       "9         green city  Where to stay in Islamabad Islamabad is a lush...   \n",
       "\n",
       "      phrase_type language   location osm_tag_key osm_tag_value  \\\n",
       "0  adjective_noun  English  Islamabad         nan           nan   \n",
       "1  adjective_noun  English  Islamabad         nan           nan   \n",
       "2  adjective_noun  English  Islamabad         nan           nan   \n",
       "3  adjective_noun  English  Islamabad         nan           nan   \n",
       "4  adjective_noun  English  Islamabad         nan           nan   \n",
       "5  adjective_noun  English  Islamabad         nan           nan   \n",
       "6  adjective_noun  English  Islamabad         nan           nan   \n",
       "7  adjective_noun  English  Islamabad         nan           nan   \n",
       "8  adjective_noun  English  Islamabad         nan           nan   \n",
       "9  adjective_noun  English  Islamabad         nan           nan   \n",
       "\n",
       "                                              source         coordinates  \\\n",
       "0  https://travelwithmansoureh.com/blog/travel-gu...  [73.0479, 33.6844]   \n",
       "1  https://travelwithmansoureh.com/blog/travel-gu...  [73.0479, 33.6844]   \n",
       "2  https://travelwithmansoureh.com/blog/travel-gu...  [73.0479, 33.6844]   \n",
       "3  https://travelwithmansoureh.com/blog/travel-gu...  [73.0479, 33.6844]   \n",
       "4  https://travelwithmansoureh.com/blog/travel-gu...  [73.0479, 33.6844]   \n",
       "5  https://travelwithmansoureh.com/blog/travel-gu...  [73.0479, 33.6844]   \n",
       "6  https://travelwithmansoureh.com/blog/travel-gu...  [73.0479, 33.6844]   \n",
       "7  https://travelwithmansoureh.com/blog/travel-gu...  [73.0479, 33.6844]   \n",
       "8  https://travelwithmansoureh.com/blog/travel-gu...  [73.0479, 33.6844]   \n",
       "9  https://travelwithmansoureh.com/blog/travel-gu...  [73.0479, 33.6844]   \n",
       "\n",
       "                 extracted_at cleaned_description adjective_noun_patterns  \n",
       "0  2025-07-30T07:56:06.093655       northern part         [northern_part]  \n",
       "1  2025-07-30T07:56:06.093655             capital                      []  \n",
       "2  2025-07-30T07:56:06.093655                city                      []  \n",
       "3  2025-07-30T07:56:06.093655     beautiful place      [beautiful_places]  \n",
       "4  2025-07-30T07:56:06.093655           best time             [best_time]  \n",
       "5  2025-07-30T07:56:06.093655        hottest time          [hottest_time]  \n",
       "6  2025-07-30T07:56:06.093655          hot season           [hot_seasons]  \n",
       "7  2025-07-30T07:56:06.093655        many tourist         [many_tourists]  \n",
       "8  2025-07-30T07:56:06.093655          best month           [best_months]  \n",
       "9  2025-07-30T07:56:06.093655          green city            [green_city]  "
      ],
      "text/html": [
       "<div>\n",
       "<style scoped>\n",
       "    .dataframe tbody tr th:only-of-type {\n",
       "        vertical-align: middle;\n",
       "    }\n",
       "\n",
       "    .dataframe tbody tr th {\n",
       "        vertical-align: top;\n",
       "    }\n",
       "\n",
       "    .dataframe thead th {\n",
       "        text-align: right;\n",
       "    }\n",
       "</style>\n",
       "<table border=\"1\" class=\"dataframe\">\n",
       "  <thead>\n",
       "    <tr style=\"text-align: right;\">\n",
       "      <th></th>\n",
       "      <th>description</th>\n",
       "      <th>sentence_context</th>\n",
       "      <th>phrase_type</th>\n",
       "      <th>language</th>\n",
       "      <th>location</th>\n",
       "      <th>osm_tag_key</th>\n",
       "      <th>osm_tag_value</th>\n",
       "      <th>source</th>\n",
       "      <th>coordinates</th>\n",
       "      <th>extracted_at</th>\n",
       "      <th>cleaned_description</th>\n",
       "      <th>adjective_noun_patterns</th>\n",
       "    </tr>\n",
       "  </thead>\n",
       "  <tbody>\n",
       "    <tr>\n",
       "      <th>0</th>\n",
       "      <td>the northern part</td>\n",
       "      <td>Some people might want to skip the city and ju...</td>\n",
       "      <td>adjective_noun</td>\n",
       "      <td>English</td>\n",
       "      <td>Islamabad</td>\n",
       "      <td>nan</td>\n",
       "      <td>nan</td>\n",
       "      <td>https://travelwithmansoureh.com/blog/travel-gu...</td>\n",
       "      <td>[73.0479, 33.6844]</td>\n",
       "      <td>2025-07-30T07:56:06.093655</td>\n",
       "      <td>northern part</td>\n",
       "      <td>[northern_part]</td>\n",
       "    </tr>\n",
       "    <tr>\n",
       "      <th>1</th>\n",
       "      <td>any other capital</td>\n",
       "      <td>Islamabad is not just like any other capital c...</td>\n",
       "      <td>adjective_noun</td>\n",
       "      <td>English</td>\n",
       "      <td>Islamabad</td>\n",
       "      <td>nan</td>\n",
       "      <td>nan</td>\n",
       "      <td>https://travelwithmansoureh.com/blog/travel-gu...</td>\n",
       "      <td>[73.0479, 33.6844]</td>\n",
       "      <td>2025-07-30T07:56:06.093655</td>\n",
       "      <td>capital</td>\n",
       "      <td>[]</td>\n",
       "    </tr>\n",
       "    <tr>\n",
       "      <th>2</th>\n",
       "      <td>other cities</td>\n",
       "      <td>The city is unique and it is very different fr...</td>\n",
       "      <td>adjective_noun</td>\n",
       "      <td>English</td>\n",
       "      <td>Islamabad</td>\n",
       "      <td>nan</td>\n",
       "      <td>nan</td>\n",
       "      <td>https://travelwithmansoureh.com/blog/travel-gu...</td>\n",
       "      <td>[73.0479, 33.6844]</td>\n",
       "      <td>2025-07-30T07:56:06.093655</td>\n",
       "      <td>city</td>\n",
       "      <td>[]</td>\n",
       "    </tr>\n",
       "    <tr>\n",
       "      <th>3</th>\n",
       "      <td>beautiful places</td>\n",
       "      <td>There are a lot of things to do and beautiful ...</td>\n",
       "      <td>adjective_noun</td>\n",
       "      <td>English</td>\n",
       "      <td>Islamabad</td>\n",
       "      <td>nan</td>\n",
       "      <td>nan</td>\n",
       "      <td>https://travelwithmansoureh.com/blog/travel-gu...</td>\n",
       "      <td>[73.0479, 33.6844]</td>\n",
       "      <td>2025-07-30T07:56:06.093655</td>\n",
       "      <td>beautiful place</td>\n",
       "      <td>[beautiful_places]</td>\n",
       "    </tr>\n",
       "    <tr>\n",
       "      <th>4</th>\n",
       "      <td>the best time</td>\n",
       "      <td>When is the best time to travel to Islamabad?</td>\n",
       "      <td>adjective_noun</td>\n",
       "      <td>English</td>\n",
       "      <td>Islamabad</td>\n",
       "      <td>nan</td>\n",
       "      <td>nan</td>\n",
       "      <td>https://travelwithmansoureh.com/blog/travel-gu...</td>\n",
       "      <td>[73.0479, 33.6844]</td>\n",
       "      <td>2025-07-30T07:56:06.093655</td>\n",
       "      <td>best time</td>\n",
       "      <td>[best_time]</td>\n",
       "    </tr>\n",
       "    <tr>\n",
       "      <th>5</th>\n",
       "      <td>the hottest time</td>\n",
       "      <td>Mid-July is considered the hottest time of the...</td>\n",
       "      <td>adjective_noun</td>\n",
       "      <td>English</td>\n",
       "      <td>Islamabad</td>\n",
       "      <td>nan</td>\n",
       "      <td>nan</td>\n",
       "      <td>https://travelwithmansoureh.com/blog/travel-gu...</td>\n",
       "      <td>[73.0479, 33.6844]</td>\n",
       "      <td>2025-07-30T07:56:06.093655</td>\n",
       "      <td>hottest time</td>\n",
       "      <td>[hottest_time]</td>\n",
       "    </tr>\n",
       "    <tr>\n",
       "      <th>6</th>\n",
       "      <td>the hot seasons</td>\n",
       "      <td>It is best to avoid travelling to Pakistan dur...</td>\n",
       "      <td>adjective_noun</td>\n",
       "      <td>English</td>\n",
       "      <td>Islamabad</td>\n",
       "      <td>nan</td>\n",
       "      <td>nan</td>\n",
       "      <td>https://travelwithmansoureh.com/blog/travel-gu...</td>\n",
       "      <td>[73.0479, 33.6844]</td>\n",
       "      <td>2025-07-30T07:56:06.093655</td>\n",
       "      <td>hot season</td>\n",
       "      <td>[hot_seasons]</td>\n",
       "    </tr>\n",
       "    <tr>\n",
       "      <th>7</th>\n",
       "      <td>Many tourists</td>\n",
       "      <td>Many tourists prefer to travel to Islamabad be...</td>\n",
       "      <td>adjective_noun</td>\n",
       "      <td>English</td>\n",
       "      <td>Islamabad</td>\n",
       "      <td>nan</td>\n",
       "      <td>nan</td>\n",
       "      <td>https://travelwithmansoureh.com/blog/travel-gu...</td>\n",
       "      <td>[73.0479, 33.6844]</td>\n",
       "      <td>2025-07-30T07:56:06.093655</td>\n",
       "      <td>many tourist</td>\n",
       "      <td>[many_tourists]</td>\n",
       "    </tr>\n",
       "    <tr>\n",
       "      <th>8</th>\n",
       "      <td>the best months</td>\n",
       "      <td>Moreover, these months are considered the best...</td>\n",
       "      <td>adjective_noun</td>\n",
       "      <td>English</td>\n",
       "      <td>Islamabad</td>\n",
       "      <td>nan</td>\n",
       "      <td>nan</td>\n",
       "      <td>https://travelwithmansoureh.com/blog/travel-gu...</td>\n",
       "      <td>[73.0479, 33.6844]</td>\n",
       "      <td>2025-07-30T07:56:06.093655</td>\n",
       "      <td>best month</td>\n",
       "      <td>[best_months]</td>\n",
       "    </tr>\n",
       "    <tr>\n",
       "      <th>9</th>\n",
       "      <td>green city</td>\n",
       "      <td>Where to stay in Islamabad Islamabad is a lush...</td>\n",
       "      <td>adjective_noun</td>\n",
       "      <td>English</td>\n",
       "      <td>Islamabad</td>\n",
       "      <td>nan</td>\n",
       "      <td>nan</td>\n",
       "      <td>https://travelwithmansoureh.com/blog/travel-gu...</td>\n",
       "      <td>[73.0479, 33.6844]</td>\n",
       "      <td>2025-07-30T07:56:06.093655</td>\n",
       "      <td>green city</td>\n",
       "      <td>[green_city]</td>\n",
       "    </tr>\n",
       "  </tbody>\n",
       "</table>\n",
       "</div>"
      ]
     },
     "execution_count": 35,
     "metadata": {},
     "output_type": "execute_result"
    }
   ],
   "execution_count": 35
  },
  {
   "metadata": {
    "ExecuteTime": {
     "end_time": "2025-07-30T05:48:59.734479Z",
     "start_time": "2025-07-30T05:48:59.719505Z"
    }
   },
   "cell_type": "code",
   "source": [
    "# Save preprocessed data\n",
    "output_file = '../data/islamabad_preprocessed.csv'\n",
    "df_deduplicated.to_csv(output_file, index=False)\n",
    "print(f\"\\nPreprocessed data saved to: {output_file}\")"
   ],
   "id": "56e12a55488a1a3e",
   "outputs": [
    {
     "name": "stdout",
     "output_type": "stream",
     "text": [
      "\n",
      "Preprocessed data saved to: ../data/islamabad_preprocessed.csv\n"
     ]
    }
   ],
   "execution_count": 36
  },
  {
   "metadata": {
    "ExecuteTime": {
     "end_time": "2025-07-30T05:49:38.488491Z",
     "start_time": "2025-07-30T05:49:38.477354Z"
    }
   },
   "cell_type": "code",
   "source": [
    "# Display sample of preprocessed data\n",
    "print(f\"\\nSample of preprocessed data:\")\n",
    "sample_cols = ['description', 'cleaned_description', 'adjective_noun_patterns']\n",
    "if 'osm_tag_key' in df_deduplicated.columns:\n",
    "    sample_cols.extend(['osm_tag_key', 'osm_tag_value'])\n",
    "print(df_deduplicated[sample_cols].head())"
   ],
   "id": "7bcd0126b6955f8c",
   "outputs": [
    {
     "name": "stdout",
     "output_type": "stream",
     "text": [
      "\n",
      "Sample of preprocessed data:\n",
      "         description cleaned_description adjective_noun_patterns osm_tag_key  \\\n",
      "0  the northern part       northern part         [northern_part]         nan   \n",
      "1  any other capital             capital                      []         nan   \n",
      "2       other cities                city                      []         nan   \n",
      "3   beautiful places     beautiful place      [beautiful_places]         nan   \n",
      "4      the best time           best time             [best_time]         nan   \n",
      "\n",
      "  osm_tag_value  \n",
      "0           nan  \n",
      "1           nan  \n",
      "2           nan  \n",
      "3           nan  \n",
      "4           nan  \n"
     ]
    }
   ],
   "execution_count": 38
  },
  {
   "metadata": {
    "ExecuteTime": {
     "end_time": "2025-07-30T05:49:59.246569Z",
     "start_time": "2025-07-30T05:49:59.237071Z"
    }
   },
   "cell_type": "code",
   "source": [
    "# Create a pattern frequency DataFrame for further analysis\n",
    "pattern_df = pd.DataFrame(pattern_freq.most_common(), columns=['pattern', 'frequency'])\n",
    "pattern_df.to_csv('../data/islamabad_patterns_frequency.csv', index=False)\n",
    "print(f\"\\nPattern frequency data saved to: ../data/islamabad_patterns_frequency.csv\")"
   ],
   "id": "de266bb614943040",
   "outputs": [
    {
     "name": "stdout",
     "output_type": "stream",
     "text": [
      "\n",
      "Pattern frequency data saved to: ../data/islamabad_patterns_frequency.csv\n"
     ]
    }
   ],
   "execution_count": 39
  }
 ],
 "metadata": {
  "kernelspec": {
   "display_name": "Python 3",
   "language": "python",
   "name": "python3"
  },
  "language_info": {
   "codemirror_mode": {
    "name": "ipython",
    "version": 2
   },
   "file_extension": ".py",
   "mimetype": "text/x-python",
   "name": "python",
   "nbconvert_exporter": "python",
   "pygments_lexer": "ipython2",
   "version": "2.7.6"
  }
 },
 "nbformat": 4,
 "nbformat_minor": 5
}
