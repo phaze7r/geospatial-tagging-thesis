{
 "cells": [
  {
   "cell_type": "code",
   "id": "initial_id",
   "metadata": {
    "collapsed": true,
    "ExecuteTime": {
     "end_time": "2025-07-31T00:21:07.734138Z",
     "start_time": "2025-07-31T00:20:58.812681Z"
    }
   },
   "source": "import pandas as pd",
   "outputs": [],
   "execution_count": 1
  },
  {
   "metadata": {
    "ExecuteTime": {
     "end_time": "2025-07-31T00:21:32.287529Z",
     "start_time": "2025-07-31T00:21:32.281652Z"
    }
   },
   "cell_type": "code",
   "source": "import numpy as np",
   "id": "28887ffa0d49e181",
   "outputs": [],
   "execution_count": 2
  },
  {
   "metadata": {
    "ExecuteTime": {
     "end_time": "2025-07-31T00:22:55.140486Z",
     "start_time": "2025-07-31T00:22:55.070023Z"
    }
   },
   "cell_type": "code",
   "source": [
    "adj_noun_df = pd.read_csv('../data/islamabad_adj_noun_phrases.csv')\n",
    "noun_df = pd.read_csv('../data/islamabad_noun_phrases.csv')"
   ],
   "id": "a1dc84c17b44282",
   "outputs": [],
   "execution_count": 5
  },
  {
   "metadata": {
    "ExecuteTime": {
     "end_time": "2025-07-31T00:23:16.580161Z",
     "start_time": "2025-07-31T00:23:16.538336Z"
    }
   },
   "cell_type": "code",
   "source": "noun_df.head()",
   "id": "7905795dff7a984",
   "outputs": [
    {
     "data": {
      "text/plain": [
       "                                  noun_phrase  \\\n",
       "0  EN English FA Farsi AR Arabic Travel Guide   \n",
       "1                                      Places   \n",
       "2                                   Islamabad   \n",
       "3                                      Things   \n",
       "4                                         Nov   \n",
       "\n",
       "                                            sentence  \\\n",
       "0  EN English FA Farsi AR Arabic Travel Guide: Pl...   \n",
       "1  EN English FA Farsi AR Arabic Travel Guide: Pl...   \n",
       "2  EN English FA Farsi AR Arabic Travel Guide: Pl...   \n",
       "3  EN English FA Farsi AR Arabic Travel Guide: Pl...   \n",
       "4  EN English FA Farsi AR Arabic Travel Guide: Pl...   \n",
       "\n",
       "                                              source  \n",
       "0  https://travelwithmansoureh.com/blog/travel-gu...  \n",
       "1  https://travelwithmansoureh.com/blog/travel-gu...  \n",
       "2  https://travelwithmansoureh.com/blog/travel-gu...  \n",
       "3  https://travelwithmansoureh.com/blog/travel-gu...  \n",
       "4  https://travelwithmansoureh.com/blog/travel-gu...  "
      ],
      "text/html": [
       "<div>\n",
       "<style scoped>\n",
       "    .dataframe tbody tr th:only-of-type {\n",
       "        vertical-align: middle;\n",
       "    }\n",
       "\n",
       "    .dataframe tbody tr th {\n",
       "        vertical-align: top;\n",
       "    }\n",
       "\n",
       "    .dataframe thead th {\n",
       "        text-align: right;\n",
       "    }\n",
       "</style>\n",
       "<table border=\"1\" class=\"dataframe\">\n",
       "  <thead>\n",
       "    <tr style=\"text-align: right;\">\n",
       "      <th></th>\n",
       "      <th>noun_phrase</th>\n",
       "      <th>sentence</th>\n",
       "      <th>source</th>\n",
       "    </tr>\n",
       "  </thead>\n",
       "  <tbody>\n",
       "    <tr>\n",
       "      <th>0</th>\n",
       "      <td>EN English FA Farsi AR Arabic Travel Guide</td>\n",
       "      <td>EN English FA Farsi AR Arabic Travel Guide: Pl...</td>\n",
       "      <td>https://travelwithmansoureh.com/blog/travel-gu...</td>\n",
       "    </tr>\n",
       "    <tr>\n",
       "      <th>1</th>\n",
       "      <td>Places</td>\n",
       "      <td>EN English FA Farsi AR Arabic Travel Guide: Pl...</td>\n",
       "      <td>https://travelwithmansoureh.com/blog/travel-gu...</td>\n",
       "    </tr>\n",
       "    <tr>\n",
       "      <th>2</th>\n",
       "      <td>Islamabad</td>\n",
       "      <td>EN English FA Farsi AR Arabic Travel Guide: Pl...</td>\n",
       "      <td>https://travelwithmansoureh.com/blog/travel-gu...</td>\n",
       "    </tr>\n",
       "    <tr>\n",
       "      <th>3</th>\n",
       "      <td>Things</td>\n",
       "      <td>EN English FA Farsi AR Arabic Travel Guide: Pl...</td>\n",
       "      <td>https://travelwithmansoureh.com/blog/travel-gu...</td>\n",
       "    </tr>\n",
       "    <tr>\n",
       "      <th>4</th>\n",
       "      <td>Nov</td>\n",
       "      <td>EN English FA Farsi AR Arabic Travel Guide: Pl...</td>\n",
       "      <td>https://travelwithmansoureh.com/blog/travel-gu...</td>\n",
       "    </tr>\n",
       "  </tbody>\n",
       "</table>\n",
       "</div>"
      ]
     },
     "execution_count": 6,
     "metadata": {},
     "output_type": "execute_result"
    }
   ],
   "execution_count": 6
  },
  {
   "metadata": {
    "ExecuteTime": {
     "end_time": "2025-07-31T00:24:57.120491Z",
     "start_time": "2025-07-31T00:24:57.112835Z"
    }
   },
   "cell_type": "code",
   "source": "noun_df.shape",
   "id": "c1803c2dcf99d499",
   "outputs": [
    {
     "data": {
      "text/plain": [
       "(2308, 3)"
      ]
     },
     "execution_count": 8,
     "metadata": {},
     "output_type": "execute_result"
    }
   ],
   "execution_count": 8
  },
  {
   "metadata": {
    "ExecuteTime": {
     "end_time": "2025-07-31T00:25:18.257992Z",
     "start_time": "2025-07-31T00:25:18.043973Z"
    }
   },
   "cell_type": "code",
   "source": "noun_df.info()",
   "id": "2d315519bc9a1864",
   "outputs": [
    {
     "name": "stdout",
     "output_type": "stream",
     "text": [
      "<class 'pandas.core.frame.DataFrame'>\n",
      "RangeIndex: 2308 entries, 0 to 2307\n",
      "Data columns (total 3 columns):\n",
      " #   Column       Non-Null Count  Dtype \n",
      "---  ------       --------------  ----- \n",
      " 0   noun_phrase  2308 non-null   object\n",
      " 1   sentence     2308 non-null   object\n",
      " 2   source       2308 non-null   object\n",
      "dtypes: object(3)\n",
      "memory usage: 54.2+ KB\n"
     ]
    }
   ],
   "execution_count": 9
  },
  {
   "metadata": {
    "ExecuteTime": {
     "end_time": "2025-07-31T00:25:38.020975Z",
     "start_time": "2025-07-31T00:25:38.013380Z"
    }
   },
   "cell_type": "code",
   "source": "adj_noun_df.shape",
   "id": "e0be8ca8ff55fb80",
   "outputs": [
    {
     "data": {
      "text/plain": [
       "(1370, 3)"
      ]
     },
     "execution_count": 10,
     "metadata": {},
     "output_type": "execute_result"
    }
   ],
   "execution_count": 10
  },
  {
   "metadata": {
    "ExecuteTime": {
     "end_time": "2025-07-31T00:26:05.238522Z",
     "start_time": "2025-07-31T00:26:05.231361Z"
    }
   },
   "cell_type": "code",
   "source": "adj_noun_df.columns",
   "id": "61dc7a3b9142be7c",
   "outputs": [
    {
     "data": {
      "text/plain": [
       "Index(['adj_noun_phrase', 'sentence', 'source'], dtype='object')"
      ]
     },
     "execution_count": 13,
     "metadata": {},
     "output_type": "execute_result"
    }
   ],
   "execution_count": 13
  },
  {
   "metadata": {},
   "cell_type": "code",
   "outputs": [],
   "execution_count": null,
   "source": [
    "noun_df.drop_duplicate(inplace=True)\n",
    "adj_noun_df.describe(inplace=True)"
   ],
   "id": "7abd392fc26dbb85"
  }
 ],
 "metadata": {
  "kernelspec": {
   "display_name": "Python 3",
   "language": "python",
   "name": "python3"
  },
  "language_info": {
   "codemirror_mode": {
    "name": "ipython",
    "version": 2
   },
   "file_extension": ".py",
   "mimetype": "text/x-python",
   "name": "python",
   "nbconvert_exporter": "python",
   "pygments_lexer": "ipython2",
   "version": "2.7.6"
  }
 },
 "nbformat": 4,
 "nbformat_minor": 5
}
