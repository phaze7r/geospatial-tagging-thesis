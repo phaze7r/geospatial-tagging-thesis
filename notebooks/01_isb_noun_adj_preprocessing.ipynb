{
 "cells": [
  {
   "cell_type": "code",
   "id": "initial_id",
   "metadata": {
    "collapsed": true,
    "ExecuteTime": {
     "end_time": "2025-07-31T02:06:26.766070Z",
     "start_time": "2025-07-31T02:06:26.761618Z"
    }
   },
   "source": "import pandas as pd",
   "outputs": [],
   "execution_count": 15
  },
  {
   "metadata": {
    "ExecuteTime": {
     "end_time": "2025-07-31T00:21:32.287529Z",
     "start_time": "2025-07-31T00:21:32.281652Z"
    }
   },
   "cell_type": "code",
   "source": "import numpy as np",
   "id": "28887ffa0d49e181",
   "outputs": [],
   "execution_count": 2
  },
  {
   "metadata": {
    "ExecuteTime": {
     "end_time": "2025-07-31T02:06:28.680190Z",
     "start_time": "2025-07-31T02:06:28.641597Z"
    }
   },
   "cell_type": "code",
   "source": [
    "adj_noun_df = pd.read_csv('../data/islamabad_adj_noun_phrases.csv')\n",
    "noun_df = pd.read_csv('../data/islamabad_noun_phrases.csv')"
   ],
   "id": "a1dc84c17b44282",
   "outputs": [],
   "execution_count": 16
  },
  {
   "metadata": {
    "ExecuteTime": {
     "end_time": "2025-07-31T02:06:30.645681Z",
     "start_time": "2025-07-31T02:06:30.629096Z"
    }
   },
   "cell_type": "code",
   "source": "noun_df.head()",
   "id": "7905795dff7a984",
   "outputs": [
    {
     "data": {
      "text/plain": [
       "                                  noun_phrase  \\\n",
       "0  EN English FA Farsi AR Arabic Travel Guide   \n",
       "1                                      Places   \n",
       "2                                   Islamabad   \n",
       "3                                      Things   \n",
       "4                                         Nov   \n",
       "\n",
       "                                            sentence  \\\n",
       "0  EN English FA Farsi AR Arabic Travel Guide: Pl...   \n",
       "1  EN English FA Farsi AR Arabic Travel Guide: Pl...   \n",
       "2  EN English FA Farsi AR Arabic Travel Guide: Pl...   \n",
       "3  EN English FA Farsi AR Arabic Travel Guide: Pl...   \n",
       "4  EN English FA Farsi AR Arabic Travel Guide: Pl...   \n",
       "\n",
       "                                              source  \n",
       "0  https://travelwithmansoureh.com/blog/travel-gu...  \n",
       "1  https://travelwithmansoureh.com/blog/travel-gu...  \n",
       "2  https://travelwithmansoureh.com/blog/travel-gu...  \n",
       "3  https://travelwithmansoureh.com/blog/travel-gu...  \n",
       "4  https://travelwithmansoureh.com/blog/travel-gu...  "
      ],
      "text/html": [
       "<div>\n",
       "<style scoped>\n",
       "    .dataframe tbody tr th:only-of-type {\n",
       "        vertical-align: middle;\n",
       "    }\n",
       "\n",
       "    .dataframe tbody tr th {\n",
       "        vertical-align: top;\n",
       "    }\n",
       "\n",
       "    .dataframe thead th {\n",
       "        text-align: right;\n",
       "    }\n",
       "</style>\n",
       "<table border=\"1\" class=\"dataframe\">\n",
       "  <thead>\n",
       "    <tr style=\"text-align: right;\">\n",
       "      <th></th>\n",
       "      <th>noun_phrase</th>\n",
       "      <th>sentence</th>\n",
       "      <th>source</th>\n",
       "    </tr>\n",
       "  </thead>\n",
       "  <tbody>\n",
       "    <tr>\n",
       "      <th>0</th>\n",
       "      <td>EN English FA Farsi AR Arabic Travel Guide</td>\n",
       "      <td>EN English FA Farsi AR Arabic Travel Guide: Pl...</td>\n",
       "      <td>https://travelwithmansoureh.com/blog/travel-gu...</td>\n",
       "    </tr>\n",
       "    <tr>\n",
       "      <th>1</th>\n",
       "      <td>Places</td>\n",
       "      <td>EN English FA Farsi AR Arabic Travel Guide: Pl...</td>\n",
       "      <td>https://travelwithmansoureh.com/blog/travel-gu...</td>\n",
       "    </tr>\n",
       "    <tr>\n",
       "      <th>2</th>\n",
       "      <td>Islamabad</td>\n",
       "      <td>EN English FA Farsi AR Arabic Travel Guide: Pl...</td>\n",
       "      <td>https://travelwithmansoureh.com/blog/travel-gu...</td>\n",
       "    </tr>\n",
       "    <tr>\n",
       "      <th>3</th>\n",
       "      <td>Things</td>\n",
       "      <td>EN English FA Farsi AR Arabic Travel Guide: Pl...</td>\n",
       "      <td>https://travelwithmansoureh.com/blog/travel-gu...</td>\n",
       "    </tr>\n",
       "    <tr>\n",
       "      <th>4</th>\n",
       "      <td>Nov</td>\n",
       "      <td>EN English FA Farsi AR Arabic Travel Guide: Pl...</td>\n",
       "      <td>https://travelwithmansoureh.com/blog/travel-gu...</td>\n",
       "    </tr>\n",
       "  </tbody>\n",
       "</table>\n",
       "</div>"
      ]
     },
     "execution_count": 17,
     "metadata": {},
     "output_type": "execute_result"
    }
   ],
   "execution_count": 17
  },
  {
   "metadata": {
    "ExecuteTime": {
     "end_time": "2025-07-31T02:06:33.543608Z",
     "start_time": "2025-07-31T02:06:33.537094Z"
    }
   },
   "cell_type": "code",
   "source": "noun_df.shape",
   "id": "c1803c2dcf99d499",
   "outputs": [
    {
     "data": {
      "text/plain": [
       "(2308, 3)"
      ]
     },
     "execution_count": 18,
     "metadata": {},
     "output_type": "execute_result"
    }
   ],
   "execution_count": 18
  },
  {
   "metadata": {
    "ExecuteTime": {
     "end_time": "2025-07-31T02:06:35.345256Z",
     "start_time": "2025-07-31T02:06:35.332355Z"
    }
   },
   "cell_type": "code",
   "source": "noun_df.info()",
   "id": "2d315519bc9a1864",
   "outputs": [
    {
     "name": "stdout",
     "output_type": "stream",
     "text": [
      "<class 'pandas.core.frame.DataFrame'>\n",
      "RangeIndex: 2308 entries, 0 to 2307\n",
      "Data columns (total 3 columns):\n",
      " #   Column       Non-Null Count  Dtype \n",
      "---  ------       --------------  ----- \n",
      " 0   noun_phrase  2308 non-null   object\n",
      " 1   sentence     2308 non-null   object\n",
      " 2   source       2308 non-null   object\n",
      "dtypes: object(3)\n",
      "memory usage: 54.2+ KB\n"
     ]
    }
   ],
   "execution_count": 19
  },
  {
   "metadata": {
    "ExecuteTime": {
     "end_time": "2025-07-31T02:06:37.235625Z",
     "start_time": "2025-07-31T02:06:37.228027Z"
    }
   },
   "cell_type": "code",
   "source": "adj_noun_df.shape",
   "id": "e0be8ca8ff55fb80",
   "outputs": [
    {
     "data": {
      "text/plain": [
       "(1370, 3)"
      ]
     },
     "execution_count": 20,
     "metadata": {},
     "output_type": "execute_result"
    }
   ],
   "execution_count": 20
  },
  {
   "metadata": {
    "ExecuteTime": {
     "end_time": "2025-07-31T02:06:39.604320Z",
     "start_time": "2025-07-31T02:06:39.597218Z"
    }
   },
   "cell_type": "code",
   "source": "adj_noun_df.columns",
   "id": "61dc7a3b9142be7c",
   "outputs": [
    {
     "data": {
      "text/plain": [
       "Index(['adj_noun_phrase', 'sentence', 'source'], dtype='object')"
      ]
     },
     "execution_count": 21,
     "metadata": {},
     "output_type": "execute_result"
    }
   ],
   "execution_count": 21
  },
  {
   "metadata": {
    "ExecuteTime": {
     "end_time": "2025-07-31T02:07:59.970895Z",
     "start_time": "2025-07-31T02:07:59.889831Z"
    }
   },
   "cell_type": "code",
   "source": [
    "noun_df.drop_duplicates(inplace=True)\n",
    "adj_noun_df.drop_duplicates(inplace=True)"
   ],
   "id": "7abd392fc26dbb85",
   "outputs": [],
   "execution_count": 24
  },
  {
   "metadata": {
    "ExecuteTime": {
     "end_time": "2025-07-31T02:08:20.967899Z",
     "start_time": "2025-07-31T02:08:20.957379Z"
    }
   },
   "cell_type": "code",
   "source": "noun_df.head()",
   "id": "ad15adfa9fd13fca",
   "outputs": [
    {
     "data": {
      "text/plain": [
       "                                  noun_phrase  \\\n",
       "0  EN English FA Farsi AR Arabic Travel Guide   \n",
       "1                                      Places   \n",
       "2                                   Islamabad   \n",
       "3                                      Things   \n",
       "4                                         Nov   \n",
       "\n",
       "                                            sentence  \\\n",
       "0  EN English FA Farsi AR Arabic Travel Guide: Pl...   \n",
       "1  EN English FA Farsi AR Arabic Travel Guide: Pl...   \n",
       "2  EN English FA Farsi AR Arabic Travel Guide: Pl...   \n",
       "3  EN English FA Farsi AR Arabic Travel Guide: Pl...   \n",
       "4  EN English FA Farsi AR Arabic Travel Guide: Pl...   \n",
       "\n",
       "                                              source  \n",
       "0  https://travelwithmansoureh.com/blog/travel-gu...  \n",
       "1  https://travelwithmansoureh.com/blog/travel-gu...  \n",
       "2  https://travelwithmansoureh.com/blog/travel-gu...  \n",
       "3  https://travelwithmansoureh.com/blog/travel-gu...  \n",
       "4  https://travelwithmansoureh.com/blog/travel-gu...  "
      ],
      "text/html": [
       "<div>\n",
       "<style scoped>\n",
       "    .dataframe tbody tr th:only-of-type {\n",
       "        vertical-align: middle;\n",
       "    }\n",
       "\n",
       "    .dataframe tbody tr th {\n",
       "        vertical-align: top;\n",
       "    }\n",
       "\n",
       "    .dataframe thead th {\n",
       "        text-align: right;\n",
       "    }\n",
       "</style>\n",
       "<table border=\"1\" class=\"dataframe\">\n",
       "  <thead>\n",
       "    <tr style=\"text-align: right;\">\n",
       "      <th></th>\n",
       "      <th>noun_phrase</th>\n",
       "      <th>sentence</th>\n",
       "      <th>source</th>\n",
       "    </tr>\n",
       "  </thead>\n",
       "  <tbody>\n",
       "    <tr>\n",
       "      <th>0</th>\n",
       "      <td>EN English FA Farsi AR Arabic Travel Guide</td>\n",
       "      <td>EN English FA Farsi AR Arabic Travel Guide: Pl...</td>\n",
       "      <td>https://travelwithmansoureh.com/blog/travel-gu...</td>\n",
       "    </tr>\n",
       "    <tr>\n",
       "      <th>1</th>\n",
       "      <td>Places</td>\n",
       "      <td>EN English FA Farsi AR Arabic Travel Guide: Pl...</td>\n",
       "      <td>https://travelwithmansoureh.com/blog/travel-gu...</td>\n",
       "    </tr>\n",
       "    <tr>\n",
       "      <th>2</th>\n",
       "      <td>Islamabad</td>\n",
       "      <td>EN English FA Farsi AR Arabic Travel Guide: Pl...</td>\n",
       "      <td>https://travelwithmansoureh.com/blog/travel-gu...</td>\n",
       "    </tr>\n",
       "    <tr>\n",
       "      <th>3</th>\n",
       "      <td>Things</td>\n",
       "      <td>EN English FA Farsi AR Arabic Travel Guide: Pl...</td>\n",
       "      <td>https://travelwithmansoureh.com/blog/travel-gu...</td>\n",
       "    </tr>\n",
       "    <tr>\n",
       "      <th>4</th>\n",
       "      <td>Nov</td>\n",
       "      <td>EN English FA Farsi AR Arabic Travel Guide: Pl...</td>\n",
       "      <td>https://travelwithmansoureh.com/blog/travel-gu...</td>\n",
       "    </tr>\n",
       "  </tbody>\n",
       "</table>\n",
       "</div>"
      ]
     },
     "execution_count": 26,
     "metadata": {},
     "output_type": "execute_result"
    }
   ],
   "execution_count": 26
  },
  {
   "metadata": {
    "ExecuteTime": {
     "end_time": "2025-07-31T02:08:29.413259Z",
     "start_time": "2025-07-31T02:08:29.402054Z"
    }
   },
   "cell_type": "code",
   "source": "adj_noun_df.head()",
   "id": "3a5cbf45f6bcc4ad",
   "outputs": [
    {
     "data": {
      "text/plain": [
       "     adj_noun_phrase                                           sentence  \\\n",
       "0  the northern part  Some people might want to skip the city and ju...   \n",
       "1      northern part  Some people might want to skip the city and ju...   \n",
       "3        other parts  Some people might want to skip the city and ju...   \n",
       "5  any other capital  Islamabad is not just like any other capital c...   \n",
       "6      other capital  Islamabad is not just like any other capital c...   \n",
       "\n",
       "                                              source  \n",
       "0  https://travelwithmansoureh.com/blog/travel-gu...  \n",
       "1  https://travelwithmansoureh.com/blog/travel-gu...  \n",
       "3  https://travelwithmansoureh.com/blog/travel-gu...  \n",
       "5  https://travelwithmansoureh.com/blog/travel-gu...  \n",
       "6  https://travelwithmansoureh.com/blog/travel-gu...  "
      ],
      "text/html": [
       "<div>\n",
       "<style scoped>\n",
       "    .dataframe tbody tr th:only-of-type {\n",
       "        vertical-align: middle;\n",
       "    }\n",
       "\n",
       "    .dataframe tbody tr th {\n",
       "        vertical-align: top;\n",
       "    }\n",
       "\n",
       "    .dataframe thead th {\n",
       "        text-align: right;\n",
       "    }\n",
       "</style>\n",
       "<table border=\"1\" class=\"dataframe\">\n",
       "  <thead>\n",
       "    <tr style=\"text-align: right;\">\n",
       "      <th></th>\n",
       "      <th>adj_noun_phrase</th>\n",
       "      <th>sentence</th>\n",
       "      <th>source</th>\n",
       "    </tr>\n",
       "  </thead>\n",
       "  <tbody>\n",
       "    <tr>\n",
       "      <th>0</th>\n",
       "      <td>the northern part</td>\n",
       "      <td>Some people might want to skip the city and ju...</td>\n",
       "      <td>https://travelwithmansoureh.com/blog/travel-gu...</td>\n",
       "    </tr>\n",
       "    <tr>\n",
       "      <th>1</th>\n",
       "      <td>northern part</td>\n",
       "      <td>Some people might want to skip the city and ju...</td>\n",
       "      <td>https://travelwithmansoureh.com/blog/travel-gu...</td>\n",
       "    </tr>\n",
       "    <tr>\n",
       "      <th>3</th>\n",
       "      <td>other parts</td>\n",
       "      <td>Some people might want to skip the city and ju...</td>\n",
       "      <td>https://travelwithmansoureh.com/blog/travel-gu...</td>\n",
       "    </tr>\n",
       "    <tr>\n",
       "      <th>5</th>\n",
       "      <td>any other capital</td>\n",
       "      <td>Islamabad is not just like any other capital c...</td>\n",
       "      <td>https://travelwithmansoureh.com/blog/travel-gu...</td>\n",
       "    </tr>\n",
       "    <tr>\n",
       "      <th>6</th>\n",
       "      <td>other capital</td>\n",
       "      <td>Islamabad is not just like any other capital c...</td>\n",
       "      <td>https://travelwithmansoureh.com/blog/travel-gu...</td>\n",
       "    </tr>\n",
       "  </tbody>\n",
       "</table>\n",
       "</div>"
      ]
     },
     "execution_count": 27,
     "metadata": {},
     "output_type": "execute_result"
    }
   ],
   "execution_count": 27
  },
  {
   "metadata": {
    "ExecuteTime": {
     "end_time": "2025-07-31T02:38:09.779851Z",
     "start_time": "2025-07-31T02:38:09.765371Z"
    }
   },
   "cell_type": "code",
   "source": "noun_df.drop_duplicates()",
   "id": "c4c5d06feec6f003",
   "outputs": [
    {
     "data": {
      "text/plain": [
       "                                            noun_phrase  \\\n",
       "0            EN English FA Farsi AR Arabic Travel Guide   \n",
       "1                                                Places   \n",
       "2                                             Islamabad   \n",
       "3                                                Things   \n",
       "4                                                   Nov   \n",
       "...                                                 ...   \n",
       "2303                                    Kashmir © Ahsan   \n",
       "2304  Arshad Awan Twitter Facebook LinkedIn Pinteres...   \n",
       "2305                                        StumbleUpon   \n",
       "2306  Delicious Yahoo Mail Gmail Newsvine Digg Frien...   \n",
       "2307                                          Pinterest   \n",
       "\n",
       "                                               sentence  \\\n",
       "0     EN English FA Farsi AR Arabic Travel Guide: Pl...   \n",
       "1     EN English FA Farsi AR Arabic Travel Guide: Pl...   \n",
       "2     EN English FA Farsi AR Arabic Travel Guide: Pl...   \n",
       "3     EN English FA Farsi AR Arabic Travel Guide: Pl...   \n",
       "4     EN English FA Farsi AR Arabic Travel Guide: Pl...   \n",
       "...                                                 ...   \n",
       "2303  The stunning Neelum Valley, Azad Kashmir © Ahs...   \n",
       "2304  The stunning Neelum Valley, Azad Kashmir © Ahs...   \n",
       "2305  The stunning Neelum Valley, Azad Kashmir © Ahs...   \n",
       "2306  Delicious Yahoo Mail Gmail Newsvine Digg Frien...   \n",
       "2307  Delicious Yahoo Mail Gmail Newsvine Digg Frien...   \n",
       "\n",
       "                                                 source  \n",
       "0     https://travelwithmansoureh.com/blog/travel-gu...  \n",
       "1     https://travelwithmansoureh.com/blog/travel-gu...  \n",
       "2     https://travelwithmansoureh.com/blog/travel-gu...  \n",
       "3     https://travelwithmansoureh.com/blog/travel-gu...  \n",
       "4     https://travelwithmansoureh.com/blog/travel-gu...  \n",
       "...                                                 ...  \n",
       "2303  https://www.pakistantravelblog.com/top-6-touri...  \n",
       "2304  https://www.pakistantravelblog.com/top-6-touri...  \n",
       "2305  https://www.pakistantravelblog.com/top-6-touri...  \n",
       "2306  https://www.pakistantravelblog.com/top-6-touri...  \n",
       "2307  https://www.pakistantravelblog.com/top-6-touri...  \n",
       "\n",
       "[1855 rows x 3 columns]"
      ],
      "text/html": [
       "<div>\n",
       "<style scoped>\n",
       "    .dataframe tbody tr th:only-of-type {\n",
       "        vertical-align: middle;\n",
       "    }\n",
       "\n",
       "    .dataframe tbody tr th {\n",
       "        vertical-align: top;\n",
       "    }\n",
       "\n",
       "    .dataframe thead th {\n",
       "        text-align: right;\n",
       "    }\n",
       "</style>\n",
       "<table border=\"1\" class=\"dataframe\">\n",
       "  <thead>\n",
       "    <tr style=\"text-align: right;\">\n",
       "      <th></th>\n",
       "      <th>noun_phrase</th>\n",
       "      <th>sentence</th>\n",
       "      <th>source</th>\n",
       "    </tr>\n",
       "  </thead>\n",
       "  <tbody>\n",
       "    <tr>\n",
       "      <th>0</th>\n",
       "      <td>EN English FA Farsi AR Arabic Travel Guide</td>\n",
       "      <td>EN English FA Farsi AR Arabic Travel Guide: Pl...</td>\n",
       "      <td>https://travelwithmansoureh.com/blog/travel-gu...</td>\n",
       "    </tr>\n",
       "    <tr>\n",
       "      <th>1</th>\n",
       "      <td>Places</td>\n",
       "      <td>EN English FA Farsi AR Arabic Travel Guide: Pl...</td>\n",
       "      <td>https://travelwithmansoureh.com/blog/travel-gu...</td>\n",
       "    </tr>\n",
       "    <tr>\n",
       "      <th>2</th>\n",
       "      <td>Islamabad</td>\n",
       "      <td>EN English FA Farsi AR Arabic Travel Guide: Pl...</td>\n",
       "      <td>https://travelwithmansoureh.com/blog/travel-gu...</td>\n",
       "    </tr>\n",
       "    <tr>\n",
       "      <th>3</th>\n",
       "      <td>Things</td>\n",
       "      <td>EN English FA Farsi AR Arabic Travel Guide: Pl...</td>\n",
       "      <td>https://travelwithmansoureh.com/blog/travel-gu...</td>\n",
       "    </tr>\n",
       "    <tr>\n",
       "      <th>4</th>\n",
       "      <td>Nov</td>\n",
       "      <td>EN English FA Farsi AR Arabic Travel Guide: Pl...</td>\n",
       "      <td>https://travelwithmansoureh.com/blog/travel-gu...</td>\n",
       "    </tr>\n",
       "    <tr>\n",
       "      <th>...</th>\n",
       "      <td>...</td>\n",
       "      <td>...</td>\n",
       "      <td>...</td>\n",
       "    </tr>\n",
       "    <tr>\n",
       "      <th>2303</th>\n",
       "      <td>Kashmir © Ahsan</td>\n",
       "      <td>The stunning Neelum Valley, Azad Kashmir © Ahs...</td>\n",
       "      <td>https://www.pakistantravelblog.com/top-6-touri...</td>\n",
       "    </tr>\n",
       "    <tr>\n",
       "      <th>2304</th>\n",
       "      <td>Arshad Awan Twitter Facebook LinkedIn Pinteres...</td>\n",
       "      <td>The stunning Neelum Valley, Azad Kashmir © Ahs...</td>\n",
       "      <td>https://www.pakistantravelblog.com/top-6-touri...</td>\n",
       "    </tr>\n",
       "    <tr>\n",
       "      <th>2305</th>\n",
       "      <td>StumbleUpon</td>\n",
       "      <td>The stunning Neelum Valley, Azad Kashmir © Ahs...</td>\n",
       "      <td>https://www.pakistantravelblog.com/top-6-touri...</td>\n",
       "    </tr>\n",
       "    <tr>\n",
       "      <th>2306</th>\n",
       "      <td>Delicious Yahoo Mail Gmail Newsvine Digg Frien...</td>\n",
       "      <td>Delicious Yahoo Mail Gmail Newsvine Digg Frien...</td>\n",
       "      <td>https://www.pakistantravelblog.com/top-6-touri...</td>\n",
       "    </tr>\n",
       "    <tr>\n",
       "      <th>2307</th>\n",
       "      <td>Pinterest</td>\n",
       "      <td>Delicious Yahoo Mail Gmail Newsvine Digg Frien...</td>\n",
       "      <td>https://www.pakistantravelblog.com/top-6-touri...</td>\n",
       "    </tr>\n",
       "  </tbody>\n",
       "</table>\n",
       "<p>1855 rows × 3 columns</p>\n",
       "</div>"
      ]
     },
     "execution_count": 58,
     "metadata": {},
     "output_type": "execute_result"
    }
   ],
   "execution_count": 58
  },
  {
   "metadata": {
    "ExecuteTime": {
     "end_time": "2025-07-31T02:10:50.130157Z",
     "start_time": "2025-07-31T02:10:50.123373Z"
    }
   },
   "cell_type": "code",
   "source": "noun_df.columns",
   "id": "f9dd6e9cb8b7209e",
   "outputs": [
    {
     "data": {
      "text/plain": [
       "Index(['noun_phrase', 'sentence', 'source'], dtype='object')"
      ]
     },
     "execution_count": 29,
     "metadata": {},
     "output_type": "execute_result"
    }
   ],
   "execution_count": 29
  },
  {
   "metadata": {
    "ExecuteTime": {
     "end_time": "2025-07-31T02:37:47.934028Z",
     "start_time": "2025-07-31T02:37:47.918538Z"
    }
   },
   "cell_type": "code",
   "source": "noun_df.drop_duplicates(subset=['sentence'])",
   "id": "85bafe1384086307",
   "outputs": [
    {
     "data": {
      "text/plain": [
       "                                            noun_phrase  \\\n",
       "0            EN English FA Farsi AR Arabic Travel Guide   \n",
       "10                                          Some people   \n",
       "18                                                 what   \n",
       "23                                          this reason   \n",
       "26                                            Islamabad   \n",
       "...                                                 ...   \n",
       "2285                                      Neelum Valley   \n",
       "2291                                  Keran Guest House   \n",
       "2296                           the Kutton Jagran Resort   \n",
       "2301                         The stunning Neelum Valley   \n",
       "2306  Delicious Yahoo Mail Gmail Newsvine Digg Frien...   \n",
       "\n",
       "                                               sentence  \\\n",
       "0     EN English FA Farsi AR Arabic Travel Guide: Pl...   \n",
       "10    Some people might want to skip the city and ju...   \n",
       "18    I already wrote about what you need to know be...   \n",
       "23    For this reason, in this article, I will mainl...   \n",
       "26    Islamabad is not just like any other capital c...   \n",
       "...                                                 ...   \n",
       "2285  Where to stay: Neelum Valley has plenty of vil...   \n",
       "2291  Keran Guest House is the best option to stay i...   \n",
       "2296  Alternatively, the Kutton Jagran Resort has Fr...   \n",
       "2301  The stunning Neelum Valley, Azad Kashmir © Ahs...   \n",
       "2306  Delicious Yahoo Mail Gmail Newsvine Digg Frien...   \n",
       "\n",
       "                                                 source  \n",
       "0     https://travelwithmansoureh.com/blog/travel-gu...  \n",
       "10    https://travelwithmansoureh.com/blog/travel-gu...  \n",
       "18    https://travelwithmansoureh.com/blog/travel-gu...  \n",
       "23    https://travelwithmansoureh.com/blog/travel-gu...  \n",
       "26    https://travelwithmansoureh.com/blog/travel-gu...  \n",
       "...                                                 ...  \n",
       "2285  https://www.pakistantravelblog.com/top-6-touri...  \n",
       "2291  https://www.pakistantravelblog.com/top-6-touri...  \n",
       "2296  https://www.pakistantravelblog.com/top-6-touri...  \n",
       "2301  https://www.pakistantravelblog.com/top-6-touri...  \n",
       "2306  https://www.pakistantravelblog.com/top-6-touri...  \n",
       "\n",
       "[418 rows x 3 columns]"
      ],
      "text/html": [
       "<div>\n",
       "<style scoped>\n",
       "    .dataframe tbody tr th:only-of-type {\n",
       "        vertical-align: middle;\n",
       "    }\n",
       "\n",
       "    .dataframe tbody tr th {\n",
       "        vertical-align: top;\n",
       "    }\n",
       "\n",
       "    .dataframe thead th {\n",
       "        text-align: right;\n",
       "    }\n",
       "</style>\n",
       "<table border=\"1\" class=\"dataframe\">\n",
       "  <thead>\n",
       "    <tr style=\"text-align: right;\">\n",
       "      <th></th>\n",
       "      <th>noun_phrase</th>\n",
       "      <th>sentence</th>\n",
       "      <th>source</th>\n",
       "    </tr>\n",
       "  </thead>\n",
       "  <tbody>\n",
       "    <tr>\n",
       "      <th>0</th>\n",
       "      <td>EN English FA Farsi AR Arabic Travel Guide</td>\n",
       "      <td>EN English FA Farsi AR Arabic Travel Guide: Pl...</td>\n",
       "      <td>https://travelwithmansoureh.com/blog/travel-gu...</td>\n",
       "    </tr>\n",
       "    <tr>\n",
       "      <th>10</th>\n",
       "      <td>Some people</td>\n",
       "      <td>Some people might want to skip the city and ju...</td>\n",
       "      <td>https://travelwithmansoureh.com/blog/travel-gu...</td>\n",
       "    </tr>\n",
       "    <tr>\n",
       "      <th>18</th>\n",
       "      <td>what</td>\n",
       "      <td>I already wrote about what you need to know be...</td>\n",
       "      <td>https://travelwithmansoureh.com/blog/travel-gu...</td>\n",
       "    </tr>\n",
       "    <tr>\n",
       "      <th>23</th>\n",
       "      <td>this reason</td>\n",
       "      <td>For this reason, in this article, I will mainl...</td>\n",
       "      <td>https://travelwithmansoureh.com/blog/travel-gu...</td>\n",
       "    </tr>\n",
       "    <tr>\n",
       "      <th>26</th>\n",
       "      <td>Islamabad</td>\n",
       "      <td>Islamabad is not just like any other capital c...</td>\n",
       "      <td>https://travelwithmansoureh.com/blog/travel-gu...</td>\n",
       "    </tr>\n",
       "    <tr>\n",
       "      <th>...</th>\n",
       "      <td>...</td>\n",
       "      <td>...</td>\n",
       "      <td>...</td>\n",
       "    </tr>\n",
       "    <tr>\n",
       "      <th>2285</th>\n",
       "      <td>Neelum Valley</td>\n",
       "      <td>Where to stay: Neelum Valley has plenty of vil...</td>\n",
       "      <td>https://www.pakistantravelblog.com/top-6-touri...</td>\n",
       "    </tr>\n",
       "    <tr>\n",
       "      <th>2291</th>\n",
       "      <td>Keran Guest House</td>\n",
       "      <td>Keran Guest House is the best option to stay i...</td>\n",
       "      <td>https://www.pakistantravelblog.com/top-6-touri...</td>\n",
       "    </tr>\n",
       "    <tr>\n",
       "      <th>2296</th>\n",
       "      <td>the Kutton Jagran Resort</td>\n",
       "      <td>Alternatively, the Kutton Jagran Resort has Fr...</td>\n",
       "      <td>https://www.pakistantravelblog.com/top-6-touri...</td>\n",
       "    </tr>\n",
       "    <tr>\n",
       "      <th>2301</th>\n",
       "      <td>The stunning Neelum Valley</td>\n",
       "      <td>The stunning Neelum Valley, Azad Kashmir © Ahs...</td>\n",
       "      <td>https://www.pakistantravelblog.com/top-6-touri...</td>\n",
       "    </tr>\n",
       "    <tr>\n",
       "      <th>2306</th>\n",
       "      <td>Delicious Yahoo Mail Gmail Newsvine Digg Frien...</td>\n",
       "      <td>Delicious Yahoo Mail Gmail Newsvine Digg Frien...</td>\n",
       "      <td>https://www.pakistantravelblog.com/top-6-touri...</td>\n",
       "    </tr>\n",
       "  </tbody>\n",
       "</table>\n",
       "<p>418 rows × 3 columns</p>\n",
       "</div>"
      ]
     },
     "execution_count": 55,
     "metadata": {},
     "output_type": "execute_result"
    }
   ],
   "execution_count": 55
  },
  {
   "metadata": {
    "ExecuteTime": {
     "end_time": "2025-07-31T02:38:37.086044Z",
     "start_time": "2025-07-31T02:38:37.069781Z"
    }
   },
   "cell_type": "code",
   "source": "adj_noun_df.drop_duplicates(subset=['sentence'])",
   "id": "8727429656272505",
   "outputs": [
    {
     "data": {
      "text/plain": [
       "           adj_noun_phrase                                           sentence  \\\n",
       "0        the northern part  Some people might want to skip the city and ju...   \n",
       "5        any other capital  Islamabad is not just like any other capital c...   \n",
       "11            other cities  The city is unique and it is very different fr...   \n",
       "13        beautiful places  There are a lot of things to do and beautiful ...   \n",
       "15           the best time      When is the best time to travel to Islamabad?   \n",
       "...                    ...                                                ...   \n",
       "1358        the first stop  How to get there: From Murree, the first stop ...   \n",
       "1361     private transport  From there it’s a 3.5-hour drive to the valley...   \n",
       "1363  personal preferences  Where to stay: Neelum Valley has plenty of vil...   \n",
       "1365       the best option  Keran Guest House is the best option to stay i...   \n",
       "1368       French cottages  Alternatively, the Kutton Jagran Resort has Fr...   \n",
       "\n",
       "                                                 source  \n",
       "0     https://travelwithmansoureh.com/blog/travel-gu...  \n",
       "5     https://travelwithmansoureh.com/blog/travel-gu...  \n",
       "11    https://travelwithmansoureh.com/blog/travel-gu...  \n",
       "13    https://travelwithmansoureh.com/blog/travel-gu...  \n",
       "15    https://travelwithmansoureh.com/blog/travel-gu...  \n",
       "...                                                 ...  \n",
       "1358  https://www.pakistantravelblog.com/top-6-touri...  \n",
       "1361  https://www.pakistantravelblog.com/top-6-touri...  \n",
       "1363  https://www.pakistantravelblog.com/top-6-touri...  \n",
       "1365  https://www.pakistantravelblog.com/top-6-touri...  \n",
       "1368  https://www.pakistantravelblog.com/top-6-touri...  \n",
       "\n",
       "[240 rows x 3 columns]"
      ],
      "text/html": [
       "<div>\n",
       "<style scoped>\n",
       "    .dataframe tbody tr th:only-of-type {\n",
       "        vertical-align: middle;\n",
       "    }\n",
       "\n",
       "    .dataframe tbody tr th {\n",
       "        vertical-align: top;\n",
       "    }\n",
       "\n",
       "    .dataframe thead th {\n",
       "        text-align: right;\n",
       "    }\n",
       "</style>\n",
       "<table border=\"1\" class=\"dataframe\">\n",
       "  <thead>\n",
       "    <tr style=\"text-align: right;\">\n",
       "      <th></th>\n",
       "      <th>adj_noun_phrase</th>\n",
       "      <th>sentence</th>\n",
       "      <th>source</th>\n",
       "    </tr>\n",
       "  </thead>\n",
       "  <tbody>\n",
       "    <tr>\n",
       "      <th>0</th>\n",
       "      <td>the northern part</td>\n",
       "      <td>Some people might want to skip the city and ju...</td>\n",
       "      <td>https://travelwithmansoureh.com/blog/travel-gu...</td>\n",
       "    </tr>\n",
       "    <tr>\n",
       "      <th>5</th>\n",
       "      <td>any other capital</td>\n",
       "      <td>Islamabad is not just like any other capital c...</td>\n",
       "      <td>https://travelwithmansoureh.com/blog/travel-gu...</td>\n",
       "    </tr>\n",
       "    <tr>\n",
       "      <th>11</th>\n",
       "      <td>other cities</td>\n",
       "      <td>The city is unique and it is very different fr...</td>\n",
       "      <td>https://travelwithmansoureh.com/blog/travel-gu...</td>\n",
       "    </tr>\n",
       "    <tr>\n",
       "      <th>13</th>\n",
       "      <td>beautiful places</td>\n",
       "      <td>There are a lot of things to do and beautiful ...</td>\n",
       "      <td>https://travelwithmansoureh.com/blog/travel-gu...</td>\n",
       "    </tr>\n",
       "    <tr>\n",
       "      <th>15</th>\n",
       "      <td>the best time</td>\n",
       "      <td>When is the best time to travel to Islamabad?</td>\n",
       "      <td>https://travelwithmansoureh.com/blog/travel-gu...</td>\n",
       "    </tr>\n",
       "    <tr>\n",
       "      <th>...</th>\n",
       "      <td>...</td>\n",
       "      <td>...</td>\n",
       "      <td>...</td>\n",
       "    </tr>\n",
       "    <tr>\n",
       "      <th>1358</th>\n",
       "      <td>the first stop</td>\n",
       "      <td>How to get there: From Murree, the first stop ...</td>\n",
       "      <td>https://www.pakistantravelblog.com/top-6-touri...</td>\n",
       "    </tr>\n",
       "    <tr>\n",
       "      <th>1361</th>\n",
       "      <td>private transport</td>\n",
       "      <td>From there it’s a 3.5-hour drive to the valley...</td>\n",
       "      <td>https://www.pakistantravelblog.com/top-6-touri...</td>\n",
       "    </tr>\n",
       "    <tr>\n",
       "      <th>1363</th>\n",
       "      <td>personal preferences</td>\n",
       "      <td>Where to stay: Neelum Valley has plenty of vil...</td>\n",
       "      <td>https://www.pakistantravelblog.com/top-6-touri...</td>\n",
       "    </tr>\n",
       "    <tr>\n",
       "      <th>1365</th>\n",
       "      <td>the best option</td>\n",
       "      <td>Keran Guest House is the best option to stay i...</td>\n",
       "      <td>https://www.pakistantravelblog.com/top-6-touri...</td>\n",
       "    </tr>\n",
       "    <tr>\n",
       "      <th>1368</th>\n",
       "      <td>French cottages</td>\n",
       "      <td>Alternatively, the Kutton Jagran Resort has Fr...</td>\n",
       "      <td>https://www.pakistantravelblog.com/top-6-touri...</td>\n",
       "    </tr>\n",
       "  </tbody>\n",
       "</table>\n",
       "<p>240 rows × 3 columns</p>\n",
       "</div>"
      ]
     },
     "execution_count": 59,
     "metadata": {},
     "output_type": "execute_result"
    }
   ],
   "execution_count": 59
  },
  {
   "metadata": {
    "ExecuteTime": {
     "end_time": "2025-07-31T02:39:00.454924Z",
     "start_time": "2025-07-31T02:39:00.388760Z"
    }
   },
   "cell_type": "code",
   "source": [
    "# Save the deduplicated DataFrames\n",
    "adj_noun_df.to_csv('../data/islamabad_adj_noun_phrases_clean.csv', index=False)\n",
    "noun_df.to_csv('../data/islamabad_noun_phrases_clean.csv', index=False)"
   ],
   "id": "5f9bbdcee131616c",
   "outputs": [],
   "execution_count": 60
  },
  {
   "metadata": {
    "ExecuteTime": {
     "end_time": "2025-07-31T02:39:46.452095Z",
     "start_time": "2025-07-31T02:39:46.414780Z"
    }
   },
   "cell_type": "code",
   "source": [
    "noun_df = pd.read_csv('../data/islamabad_noun_phrases_clean.csv')\n",
    "\n",
    "print(f\"Noun phrases DataFrame shape: {noun_df.shape}\")"
   ],
   "id": "4fad29fc8e61e7ef",
   "outputs": [
    {
     "name": "stdout",
     "output_type": "stream",
     "text": [
      "Noun phrases DataFrame shape: (1855, 3)\n"
     ]
    }
   ],
   "execution_count": 61
  },
  {
   "metadata": {},
   "cell_type": "code",
   "outputs": [],
   "execution_count": null,
   "source": "",
   "id": "fc9c1a4bdc080dc9"
  }
 ],
 "metadata": {
  "kernelspec": {
   "display_name": "Python 3",
   "language": "python",
   "name": "python3"
  },
  "language_info": {
   "codemirror_mode": {
    "name": "ipython",
    "version": 2
   },
   "file_extension": ".py",
   "mimetype": "text/x-python",
   "name": "python",
   "nbconvert_exporter": "python",
   "pygments_lexer": "ipython2",
   "version": "2.7.6"
  }
 },
 "nbformat": 4,
 "nbformat_minor": 5
}
