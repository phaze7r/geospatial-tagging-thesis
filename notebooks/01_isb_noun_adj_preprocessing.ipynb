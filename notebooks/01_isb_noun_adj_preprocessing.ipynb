{
 "cells": [
  {
   "cell_type": "code",
   "id": "initial_id",
   "metadata": {
    "collapsed": true,
    "ExecuteTime": {
     "end_time": "2025-07-31T02:06:26.766070Z",
     "start_time": "2025-07-31T02:06:26.761618Z"
    }
   },
   "source": "import pandas as pd",
   "outputs": [],
   "execution_count": 15
  },
  {
   "metadata": {
    "ExecuteTime": {
     "end_time": "2025-07-31T00:21:32.287529Z",
     "start_time": "2025-07-31T00:21:32.281652Z"
    }
   },
   "cell_type": "code",
   "source": "import numpy as np",
   "id": "28887ffa0d49e181",
   "outputs": [],
   "execution_count": 2
  },
  {
   "metadata": {
    "ExecuteTime": {
     "end_time": "2025-07-31T02:06:28.680190Z",
     "start_time": "2025-07-31T02:06:28.641597Z"
    }
   },
   "cell_type": "code",
   "source": [
    "adj_noun_df = pd.read_csv('../data/islamabad_adj_noun_phrases.csv')\n",
    "noun_df = pd.read_csv('../data/islamabad_noun_phrases.csv')"
   ],
   "id": "a1dc84c17b44282",
   "outputs": [],
   "execution_count": 16
  },
  {
   "metadata": {
    "ExecuteTime": {
     "end_time": "2025-07-31T02:06:30.645681Z",
     "start_time": "2025-07-31T02:06:30.629096Z"
    }
   },
   "cell_type": "code",
   "source": "noun_df.head()",
   "id": "7905795dff7a984",
   "outputs": [
    {
     "data": {
      "text/plain": [
       "                                  noun_phrase  \\\n",
       "0  EN English FA Farsi AR Arabic Travel Guide   \n",
       "1                                      Places   \n",
       "2                                   Islamabad   \n",
       "3                                      Things   \n",
       "4                                         Nov   \n",
       "\n",
       "                                            sentence  \\\n",
       "0  EN English FA Farsi AR Arabic Travel Guide: Pl...   \n",
       "1  EN English FA Farsi AR Arabic Travel Guide: Pl...   \n",
       "2  EN English FA Farsi AR Arabic Travel Guide: Pl...   \n",
       "3  EN English FA Farsi AR Arabic Travel Guide: Pl...   \n",
       "4  EN English FA Farsi AR Arabic Travel Guide: Pl...   \n",
       "\n",
       "                                              source  \n",
       "0  https://travelwithmansoureh.com/blog/travel-gu...  \n",
       "1  https://travelwithmansoureh.com/blog/travel-gu...  \n",
       "2  https://travelwithmansoureh.com/blog/travel-gu...  \n",
       "3  https://travelwithmansoureh.com/blog/travel-gu...  \n",
       "4  https://travelwithmansoureh.com/blog/travel-gu...  "
      ],
      "text/html": [
       "<div>\n",
       "<style scoped>\n",
       "    .dataframe tbody tr th:only-of-type {\n",
       "        vertical-align: middle;\n",
       "    }\n",
       "\n",
       "    .dataframe tbody tr th {\n",
       "        vertical-align: top;\n",
       "    }\n",
       "\n",
       "    .dataframe thead th {\n",
       "        text-align: right;\n",
       "    }\n",
       "</style>\n",
       "<table border=\"1\" class=\"dataframe\">\n",
       "  <thead>\n",
       "    <tr style=\"text-align: right;\">\n",
       "      <th></th>\n",
       "      <th>noun_phrase</th>\n",
       "      <th>sentence</th>\n",
       "      <th>source</th>\n",
       "    </tr>\n",
       "  </thead>\n",
       "  <tbody>\n",
       "    <tr>\n",
       "      <th>0</th>\n",
       "      <td>EN English FA Farsi AR Arabic Travel Guide</td>\n",
       "      <td>EN English FA Farsi AR Arabic Travel Guide: Pl...</td>\n",
       "      <td>https://travelwithmansoureh.com/blog/travel-gu...</td>\n",
       "    </tr>\n",
       "    <tr>\n",
       "      <th>1</th>\n",
       "      <td>Places</td>\n",
       "      <td>EN English FA Farsi AR Arabic Travel Guide: Pl...</td>\n",
       "      <td>https://travelwithmansoureh.com/blog/travel-gu...</td>\n",
       "    </tr>\n",
       "    <tr>\n",
       "      <th>2</th>\n",
       "      <td>Islamabad</td>\n",
       "      <td>EN English FA Farsi AR Arabic Travel Guide: Pl...</td>\n",
       "      <td>https://travelwithmansoureh.com/blog/travel-gu...</td>\n",
       "    </tr>\n",
       "    <tr>\n",
       "      <th>3</th>\n",
       "      <td>Things</td>\n",
       "      <td>EN English FA Farsi AR Arabic Travel Guide: Pl...</td>\n",
       "      <td>https://travelwithmansoureh.com/blog/travel-gu...</td>\n",
       "    </tr>\n",
       "    <tr>\n",
       "      <th>4</th>\n",
       "      <td>Nov</td>\n",
       "      <td>EN English FA Farsi AR Arabic Travel Guide: Pl...</td>\n",
       "      <td>https://travelwithmansoureh.com/blog/travel-gu...</td>\n",
       "    </tr>\n",
       "  </tbody>\n",
       "</table>\n",
       "</div>"
      ]
     },
     "execution_count": 17,
     "metadata": {},
     "output_type": "execute_result"
    }
   ],
   "execution_count": 17
  },
  {
   "metadata": {
    "ExecuteTime": {
     "end_time": "2025-07-31T02:06:33.543608Z",
     "start_time": "2025-07-31T02:06:33.537094Z"
    }
   },
   "cell_type": "code",
   "source": "noun_df.shape",
   "id": "c1803c2dcf99d499",
   "outputs": [
    {
     "data": {
      "text/plain": [
       "(2308, 3)"
      ]
     },
     "execution_count": 18,
     "metadata": {},
     "output_type": "execute_result"
    }
   ],
   "execution_count": 18
  },
  {
   "metadata": {
    "ExecuteTime": {
     "end_time": "2025-07-31T02:06:35.345256Z",
     "start_time": "2025-07-31T02:06:35.332355Z"
    }
   },
   "cell_type": "code",
   "source": "noun_df.info()",
   "id": "2d315519bc9a1864",
   "outputs": [
    {
     "name": "stdout",
     "output_type": "stream",
     "text": [
      "<class 'pandas.core.frame.DataFrame'>\n",
      "RangeIndex: 2308 entries, 0 to 2307\n",
      "Data columns (total 3 columns):\n",
      " #   Column       Non-Null Count  Dtype \n",
      "---  ------       --------------  ----- \n",
      " 0   noun_phrase  2308 non-null   object\n",
      " 1   sentence     2308 non-null   object\n",
      " 2   source       2308 non-null   object\n",
      "dtypes: object(3)\n",
      "memory usage: 54.2+ KB\n"
     ]
    }
   ],
   "execution_count": 19
  },
  {
   "metadata": {
    "ExecuteTime": {
     "end_time": "2025-07-31T02:06:37.235625Z",
     "start_time": "2025-07-31T02:06:37.228027Z"
    }
   },
   "cell_type": "code",
   "source": "adj_noun_df.shape",
   "id": "e0be8ca8ff55fb80",
   "outputs": [
    {
     "data": {
      "text/plain": [
       "(1370, 3)"
      ]
     },
     "execution_count": 20,
     "metadata": {},
     "output_type": "execute_result"
    }
   ],
   "execution_count": 20
  },
  {
   "metadata": {
    "ExecuteTime": {
     "end_time": "2025-07-31T02:06:39.604320Z",
     "start_time": "2025-07-31T02:06:39.597218Z"
    }
   },
   "cell_type": "code",
   "source": "adj_noun_df.columns",
   "id": "61dc7a3b9142be7c",
   "outputs": [
    {
     "data": {
      "text/plain": [
       "Index(['adj_noun_phrase', 'sentence', 'source'], dtype='object')"
      ]
     },
     "execution_count": 21,
     "metadata": {},
     "output_type": "execute_result"
    }
   ],
   "execution_count": 21
  },
  {
   "metadata": {
    "ExecuteTime": {
     "end_time": "2025-07-31T02:07:59.970895Z",
     "start_time": "2025-07-31T02:07:59.889831Z"
    }
   },
   "cell_type": "code",
   "source": [
    "noun_df.drop_duplicates(inplace=True)\n",
    "adj_noun_df.drop_duplicates(inplace=True)"
   ],
   "id": "7abd392fc26dbb85",
   "outputs": [],
   "execution_count": 24
  },
  {
   "metadata": {
    "ExecuteTime": {
     "end_time": "2025-07-31T02:08:20.967899Z",
     "start_time": "2025-07-31T02:08:20.957379Z"
    }
   },
   "cell_type": "code",
   "source": "noun_df.head()",
   "id": "ad15adfa9fd13fca",
   "outputs": [
    {
     "data": {
      "text/plain": [
       "                                  noun_phrase  \\\n",
       "0  EN English FA Farsi AR Arabic Travel Guide   \n",
       "1                                      Places   \n",
       "2                                   Islamabad   \n",
       "3                                      Things   \n",
       "4                                         Nov   \n",
       "\n",
       "                                            sentence  \\\n",
       "0  EN English FA Farsi AR Arabic Travel Guide: Pl...   \n",
       "1  EN English FA Farsi AR Arabic Travel Guide: Pl...   \n",
       "2  EN English FA Farsi AR Arabic Travel Guide: Pl...   \n",
       "3  EN English FA Farsi AR Arabic Travel Guide: Pl...   \n",
       "4  EN English FA Farsi AR Arabic Travel Guide: Pl...   \n",
       "\n",
       "                                              source  \n",
       "0  https://travelwithmansoureh.com/blog/travel-gu...  \n",
       "1  https://travelwithmansoureh.com/blog/travel-gu...  \n",
       "2  https://travelwithmansoureh.com/blog/travel-gu...  \n",
       "3  https://travelwithmansoureh.com/blog/travel-gu...  \n",
       "4  https://travelwithmansoureh.com/blog/travel-gu...  "
      ],
      "text/html": [
       "<div>\n",
       "<style scoped>\n",
       "    .dataframe tbody tr th:only-of-type {\n",
       "        vertical-align: middle;\n",
       "    }\n",
       "\n",
       "    .dataframe tbody tr th {\n",
       "        vertical-align: top;\n",
       "    }\n",
       "\n",
       "    .dataframe thead th {\n",
       "        text-align: right;\n",
       "    }\n",
       "</style>\n",
       "<table border=\"1\" class=\"dataframe\">\n",
       "  <thead>\n",
       "    <tr style=\"text-align: right;\">\n",
       "      <th></th>\n",
       "      <th>noun_phrase</th>\n",
       "      <th>sentence</th>\n",
       "      <th>source</th>\n",
       "    </tr>\n",
       "  </thead>\n",
       "  <tbody>\n",
       "    <tr>\n",
       "      <th>0</th>\n",
       "      <td>EN English FA Farsi AR Arabic Travel Guide</td>\n",
       "      <td>EN English FA Farsi AR Arabic Travel Guide: Pl...</td>\n",
       "      <td>https://travelwithmansoureh.com/blog/travel-gu...</td>\n",
       "    </tr>\n",
       "    <tr>\n",
       "      <th>1</th>\n",
       "      <td>Places</td>\n",
       "      <td>EN English FA Farsi AR Arabic Travel Guide: Pl...</td>\n",
       "      <td>https://travelwithmansoureh.com/blog/travel-gu...</td>\n",
       "    </tr>\n",
       "    <tr>\n",
       "      <th>2</th>\n",
       "      <td>Islamabad</td>\n",
       "      <td>EN English FA Farsi AR Arabic Travel Guide: Pl...</td>\n",
       "      <td>https://travelwithmansoureh.com/blog/travel-gu...</td>\n",
       "    </tr>\n",
       "    <tr>\n",
       "      <th>3</th>\n",
       "      <td>Things</td>\n",
       "      <td>EN English FA Farsi AR Arabic Travel Guide: Pl...</td>\n",
       "      <td>https://travelwithmansoureh.com/blog/travel-gu...</td>\n",
       "    </tr>\n",
       "    <tr>\n",
       "      <th>4</th>\n",
       "      <td>Nov</td>\n",
       "      <td>EN English FA Farsi AR Arabic Travel Guide: Pl...</td>\n",
       "      <td>https://travelwithmansoureh.com/blog/travel-gu...</td>\n",
       "    </tr>\n",
       "  </tbody>\n",
       "</table>\n",
       "</div>"
      ]
     },
     "execution_count": 26,
     "metadata": {},
     "output_type": "execute_result"
    }
   ],
   "execution_count": 26
  },
  {
   "metadata": {
    "ExecuteTime": {
     "end_time": "2025-07-31T02:08:29.413259Z",
     "start_time": "2025-07-31T02:08:29.402054Z"
    }
   },
   "cell_type": "code",
   "source": "adj_noun_df.head()",
   "id": "3a5cbf45f6bcc4ad",
   "outputs": [
    {
     "data": {
      "text/plain": [
       "     adj_noun_phrase                                           sentence  \\\n",
       "0  the northern part  Some people might want to skip the city and ju...   \n",
       "1      northern part  Some people might want to skip the city and ju...   \n",
       "3        other parts  Some people might want to skip the city and ju...   \n",
       "5  any other capital  Islamabad is not just like any other capital c...   \n",
       "6      other capital  Islamabad is not just like any other capital c...   \n",
       "\n",
       "                                              source  \n",
       "0  https://travelwithmansoureh.com/blog/travel-gu...  \n",
       "1  https://travelwithmansoureh.com/blog/travel-gu...  \n",
       "3  https://travelwithmansoureh.com/blog/travel-gu...  \n",
       "5  https://travelwithmansoureh.com/blog/travel-gu...  \n",
       "6  https://travelwithmansoureh.com/blog/travel-gu...  "
      ],
      "text/html": [
       "<div>\n",
       "<style scoped>\n",
       "    .dataframe tbody tr th:only-of-type {\n",
       "        vertical-align: middle;\n",
       "    }\n",
       "\n",
       "    .dataframe tbody tr th {\n",
       "        vertical-align: top;\n",
       "    }\n",
       "\n",
       "    .dataframe thead th {\n",
       "        text-align: right;\n",
       "    }\n",
       "</style>\n",
       "<table border=\"1\" class=\"dataframe\">\n",
       "  <thead>\n",
       "    <tr style=\"text-align: right;\">\n",
       "      <th></th>\n",
       "      <th>adj_noun_phrase</th>\n",
       "      <th>sentence</th>\n",
       "      <th>source</th>\n",
       "    </tr>\n",
       "  </thead>\n",
       "  <tbody>\n",
       "    <tr>\n",
       "      <th>0</th>\n",
       "      <td>the northern part</td>\n",
       "      <td>Some people might want to skip the city and ju...</td>\n",
       "      <td>https://travelwithmansoureh.com/blog/travel-gu...</td>\n",
       "    </tr>\n",
       "    <tr>\n",
       "      <th>1</th>\n",
       "      <td>northern part</td>\n",
       "      <td>Some people might want to skip the city and ju...</td>\n",
       "      <td>https://travelwithmansoureh.com/blog/travel-gu...</td>\n",
       "    </tr>\n",
       "    <tr>\n",
       "      <th>3</th>\n",
       "      <td>other parts</td>\n",
       "      <td>Some people might want to skip the city and ju...</td>\n",
       "      <td>https://travelwithmansoureh.com/blog/travel-gu...</td>\n",
       "    </tr>\n",
       "    <tr>\n",
       "      <th>5</th>\n",
       "      <td>any other capital</td>\n",
       "      <td>Islamabad is not just like any other capital c...</td>\n",
       "      <td>https://travelwithmansoureh.com/blog/travel-gu...</td>\n",
       "    </tr>\n",
       "    <tr>\n",
       "      <th>6</th>\n",
       "      <td>other capital</td>\n",
       "      <td>Islamabad is not just like any other capital c...</td>\n",
       "      <td>https://travelwithmansoureh.com/blog/travel-gu...</td>\n",
       "    </tr>\n",
       "  </tbody>\n",
       "</table>\n",
       "</div>"
      ]
     },
     "execution_count": 27,
     "metadata": {},
     "output_type": "execute_result"
    }
   ],
   "execution_count": 27
  },
  {
   "metadata": {
    "ExecuteTime": {
     "end_time": "2025-07-31T02:08:54.928782Z",
     "start_time": "2025-07-31T02:08:54.910297Z"
    }
   },
   "cell_type": "code",
   "source": "noun_df.drop_duplicates()",
   "id": "c4c5d06feec6f003",
   "outputs": [
    {
     "data": {
      "text/plain": [
       "                                            noun_phrase  \\\n",
       "0            EN English FA Farsi AR Arabic Travel Guide   \n",
       "1                                                Places   \n",
       "2                                             Islamabad   \n",
       "3                                                Things   \n",
       "4                                                   Nov   \n",
       "...                                                 ...   \n",
       "2303                                    Kashmir © Ahsan   \n",
       "2304  Arshad Awan Twitter Facebook LinkedIn Pinteres...   \n",
       "2305                                        StumbleUpon   \n",
       "2306  Delicious Yahoo Mail Gmail Newsvine Digg Frien...   \n",
       "2307                                          Pinterest   \n",
       "\n",
       "                                               sentence  \\\n",
       "0     EN English FA Farsi AR Arabic Travel Guide: Pl...   \n",
       "1     EN English FA Farsi AR Arabic Travel Guide: Pl...   \n",
       "2     EN English FA Farsi AR Arabic Travel Guide: Pl...   \n",
       "3     EN English FA Farsi AR Arabic Travel Guide: Pl...   \n",
       "4     EN English FA Farsi AR Arabic Travel Guide: Pl...   \n",
       "...                                                 ...   \n",
       "2303  The stunning Neelum Valley, Azad Kashmir © Ahs...   \n",
       "2304  The stunning Neelum Valley, Azad Kashmir © Ahs...   \n",
       "2305  The stunning Neelum Valley, Azad Kashmir © Ahs...   \n",
       "2306  Delicious Yahoo Mail Gmail Newsvine Digg Frien...   \n",
       "2307  Delicious Yahoo Mail Gmail Newsvine Digg Frien...   \n",
       "\n",
       "                                                 source  \n",
       "0     https://travelwithmansoureh.com/blog/travel-gu...  \n",
       "1     https://travelwithmansoureh.com/blog/travel-gu...  \n",
       "2     https://travelwithmansoureh.com/blog/travel-gu...  \n",
       "3     https://travelwithmansoureh.com/blog/travel-gu...  \n",
       "4     https://travelwithmansoureh.com/blog/travel-gu...  \n",
       "...                                                 ...  \n",
       "2303  https://www.pakistantravelblog.com/top-6-touri...  \n",
       "2304  https://www.pakistantravelblog.com/top-6-touri...  \n",
       "2305  https://www.pakistantravelblog.com/top-6-touri...  \n",
       "2306  https://www.pakistantravelblog.com/top-6-touri...  \n",
       "2307  https://www.pakistantravelblog.com/top-6-touri...  \n",
       "\n",
       "[1855 rows x 3 columns]"
      ],
      "text/html": [
       "<div>\n",
       "<style scoped>\n",
       "    .dataframe tbody tr th:only-of-type {\n",
       "        vertical-align: middle;\n",
       "    }\n",
       "\n",
       "    .dataframe tbody tr th {\n",
       "        vertical-align: top;\n",
       "    }\n",
       "\n",
       "    .dataframe thead th {\n",
       "        text-align: right;\n",
       "    }\n",
       "</style>\n",
       "<table border=\"1\" class=\"dataframe\">\n",
       "  <thead>\n",
       "    <tr style=\"text-align: right;\">\n",
       "      <th></th>\n",
       "      <th>noun_phrase</th>\n",
       "      <th>sentence</th>\n",
       "      <th>source</th>\n",
       "    </tr>\n",
       "  </thead>\n",
       "  <tbody>\n",
       "    <tr>\n",
       "      <th>0</th>\n",
       "      <td>EN English FA Farsi AR Arabic Travel Guide</td>\n",
       "      <td>EN English FA Farsi AR Arabic Travel Guide: Pl...</td>\n",
       "      <td>https://travelwithmansoureh.com/blog/travel-gu...</td>\n",
       "    </tr>\n",
       "    <tr>\n",
       "      <th>1</th>\n",
       "      <td>Places</td>\n",
       "      <td>EN English FA Farsi AR Arabic Travel Guide: Pl...</td>\n",
       "      <td>https://travelwithmansoureh.com/blog/travel-gu...</td>\n",
       "    </tr>\n",
       "    <tr>\n",
       "      <th>2</th>\n",
       "      <td>Islamabad</td>\n",
       "      <td>EN English FA Farsi AR Arabic Travel Guide: Pl...</td>\n",
       "      <td>https://travelwithmansoureh.com/blog/travel-gu...</td>\n",
       "    </tr>\n",
       "    <tr>\n",
       "      <th>3</th>\n",
       "      <td>Things</td>\n",
       "      <td>EN English FA Farsi AR Arabic Travel Guide: Pl...</td>\n",
       "      <td>https://travelwithmansoureh.com/blog/travel-gu...</td>\n",
       "    </tr>\n",
       "    <tr>\n",
       "      <th>4</th>\n",
       "      <td>Nov</td>\n",
       "      <td>EN English FA Farsi AR Arabic Travel Guide: Pl...</td>\n",
       "      <td>https://travelwithmansoureh.com/blog/travel-gu...</td>\n",
       "    </tr>\n",
       "    <tr>\n",
       "      <th>...</th>\n",
       "      <td>...</td>\n",
       "      <td>...</td>\n",
       "      <td>...</td>\n",
       "    </tr>\n",
       "    <tr>\n",
       "      <th>2303</th>\n",
       "      <td>Kashmir © Ahsan</td>\n",
       "      <td>The stunning Neelum Valley, Azad Kashmir © Ahs...</td>\n",
       "      <td>https://www.pakistantravelblog.com/top-6-touri...</td>\n",
       "    </tr>\n",
       "    <tr>\n",
       "      <th>2304</th>\n",
       "      <td>Arshad Awan Twitter Facebook LinkedIn Pinteres...</td>\n",
       "      <td>The stunning Neelum Valley, Azad Kashmir © Ahs...</td>\n",
       "      <td>https://www.pakistantravelblog.com/top-6-touri...</td>\n",
       "    </tr>\n",
       "    <tr>\n",
       "      <th>2305</th>\n",
       "      <td>StumbleUpon</td>\n",
       "      <td>The stunning Neelum Valley, Azad Kashmir © Ahs...</td>\n",
       "      <td>https://www.pakistantravelblog.com/top-6-touri...</td>\n",
       "    </tr>\n",
       "    <tr>\n",
       "      <th>2306</th>\n",
       "      <td>Delicious Yahoo Mail Gmail Newsvine Digg Frien...</td>\n",
       "      <td>Delicious Yahoo Mail Gmail Newsvine Digg Frien...</td>\n",
       "      <td>https://www.pakistantravelblog.com/top-6-touri...</td>\n",
       "    </tr>\n",
       "    <tr>\n",
       "      <th>2307</th>\n",
       "      <td>Pinterest</td>\n",
       "      <td>Delicious Yahoo Mail Gmail Newsvine Digg Frien...</td>\n",
       "      <td>https://www.pakistantravelblog.com/top-6-touri...</td>\n",
       "    </tr>\n",
       "  </tbody>\n",
       "</table>\n",
       "<p>1855 rows × 3 columns</p>\n",
       "</div>"
      ]
     },
     "execution_count": 28,
     "metadata": {},
     "output_type": "execute_result"
    }
   ],
   "execution_count": 28
  },
  {
   "metadata": {
    "ExecuteTime": {
     "end_time": "2025-07-31T02:10:50.130157Z",
     "start_time": "2025-07-31T02:10:50.123373Z"
    }
   },
   "cell_type": "code",
   "source": "noun_df.columns",
   "id": "f9dd6e9cb8b7209e",
   "outputs": [
    {
     "data": {
      "text/plain": [
       "Index(['noun_phrase', 'sentence', 'source'], dtype='object')"
      ]
     },
     "execution_count": 29,
     "metadata": {},
     "output_type": "execute_result"
    }
   ],
   "execution_count": 29
  },
  {
   "metadata": {
    "ExecuteTime": {
     "end_time": "2025-07-31T02:11:58.699913Z",
     "start_time": "2025-07-31T02:11:58.670085Z"
    }
   },
   "cell_type": "code",
   "source": "noun_df.drop_duplicates(subset=['sentence'])",
   "id": "85bafe1384086307",
   "outputs": [
    {
     "data": {
      "text/plain": [
       "                                            noun_phrase  \\\n",
       "0            EN English FA Farsi AR Arabic Travel Guide   \n",
       "10                                          Some people   \n",
       "18                                                 what   \n",
       "23                                          this reason   \n",
       "26                                            Islamabad   \n",
       "...                                                 ...   \n",
       "2285                                      Neelum Valley   \n",
       "2291                                  Keran Guest House   \n",
       "2296                           the Kutton Jagran Resort   \n",
       "2301                         The stunning Neelum Valley   \n",
       "2306  Delicious Yahoo Mail Gmail Newsvine Digg Frien...   \n",
       "\n",
       "                                               sentence  \\\n",
       "0     EN English FA Farsi AR Arabic Travel Guide: Pl...   \n",
       "10    Some people might want to skip the city and ju...   \n",
       "18    I already wrote about what you need to know be...   \n",
       "23    For this reason, in this article, I will mainl...   \n",
       "26    Islamabad is not just like any other capital c...   \n",
       "...                                                 ...   \n",
       "2285  Where to stay: Neelum Valley has plenty of vil...   \n",
       "2291  Keran Guest House is the best option to stay i...   \n",
       "2296  Alternatively, the Kutton Jagran Resort has Fr...   \n",
       "2301  The stunning Neelum Valley, Azad Kashmir © Ahs...   \n",
       "2306  Delicious Yahoo Mail Gmail Newsvine Digg Frien...   \n",
       "\n",
       "                                                 source  \n",
       "0     https://travelwithmansoureh.com/blog/travel-gu...  \n",
       "10    https://travelwithmansoureh.com/blog/travel-gu...  \n",
       "18    https://travelwithmansoureh.com/blog/travel-gu...  \n",
       "23    https://travelwithmansoureh.com/blog/travel-gu...  \n",
       "26    https://travelwithmansoureh.com/blog/travel-gu...  \n",
       "...                                                 ...  \n",
       "2285  https://www.pakistantravelblog.com/top-6-touri...  \n",
       "2291  https://www.pakistantravelblog.com/top-6-touri...  \n",
       "2296  https://www.pakistantravelblog.com/top-6-touri...  \n",
       "2301  https://www.pakistantravelblog.com/top-6-touri...  \n",
       "2306  https://www.pakistantravelblog.com/top-6-touri...  \n",
       "\n",
       "[418 rows x 3 columns]"
      ],
      "text/html": [
       "<div>\n",
       "<style scoped>\n",
       "    .dataframe tbody tr th:only-of-type {\n",
       "        vertical-align: middle;\n",
       "    }\n",
       "\n",
       "    .dataframe tbody tr th {\n",
       "        vertical-align: top;\n",
       "    }\n",
       "\n",
       "    .dataframe thead th {\n",
       "        text-align: right;\n",
       "    }\n",
       "</style>\n",
       "<table border=\"1\" class=\"dataframe\">\n",
       "  <thead>\n",
       "    <tr style=\"text-align: right;\">\n",
       "      <th></th>\n",
       "      <th>noun_phrase</th>\n",
       "      <th>sentence</th>\n",
       "      <th>source</th>\n",
       "    </tr>\n",
       "  </thead>\n",
       "  <tbody>\n",
       "    <tr>\n",
       "      <th>0</th>\n",
       "      <td>EN English FA Farsi AR Arabic Travel Guide</td>\n",
       "      <td>EN English FA Farsi AR Arabic Travel Guide: Pl...</td>\n",
       "      <td>https://travelwithmansoureh.com/blog/travel-gu...</td>\n",
       "    </tr>\n",
       "    <tr>\n",
       "      <th>10</th>\n",
       "      <td>Some people</td>\n",
       "      <td>Some people might want to skip the city and ju...</td>\n",
       "      <td>https://travelwithmansoureh.com/blog/travel-gu...</td>\n",
       "    </tr>\n",
       "    <tr>\n",
       "      <th>18</th>\n",
       "      <td>what</td>\n",
       "      <td>I already wrote about what you need to know be...</td>\n",
       "      <td>https://travelwithmansoureh.com/blog/travel-gu...</td>\n",
       "    </tr>\n",
       "    <tr>\n",
       "      <th>23</th>\n",
       "      <td>this reason</td>\n",
       "      <td>For this reason, in this article, I will mainl...</td>\n",
       "      <td>https://travelwithmansoureh.com/blog/travel-gu...</td>\n",
       "    </tr>\n",
       "    <tr>\n",
       "      <th>26</th>\n",
       "      <td>Islamabad</td>\n",
       "      <td>Islamabad is not just like any other capital c...</td>\n",
       "      <td>https://travelwithmansoureh.com/blog/travel-gu...</td>\n",
       "    </tr>\n",
       "    <tr>\n",
       "      <th>...</th>\n",
       "      <td>...</td>\n",
       "      <td>...</td>\n",
       "      <td>...</td>\n",
       "    </tr>\n",
       "    <tr>\n",
       "      <th>2285</th>\n",
       "      <td>Neelum Valley</td>\n",
       "      <td>Where to stay: Neelum Valley has plenty of vil...</td>\n",
       "      <td>https://www.pakistantravelblog.com/top-6-touri...</td>\n",
       "    </tr>\n",
       "    <tr>\n",
       "      <th>2291</th>\n",
       "      <td>Keran Guest House</td>\n",
       "      <td>Keran Guest House is the best option to stay i...</td>\n",
       "      <td>https://www.pakistantravelblog.com/top-6-touri...</td>\n",
       "    </tr>\n",
       "    <tr>\n",
       "      <th>2296</th>\n",
       "      <td>the Kutton Jagran Resort</td>\n",
       "      <td>Alternatively, the Kutton Jagran Resort has Fr...</td>\n",
       "      <td>https://www.pakistantravelblog.com/top-6-touri...</td>\n",
       "    </tr>\n",
       "    <tr>\n",
       "      <th>2301</th>\n",
       "      <td>The stunning Neelum Valley</td>\n",
       "      <td>The stunning Neelum Valley, Azad Kashmir © Ahs...</td>\n",
       "      <td>https://www.pakistantravelblog.com/top-6-touri...</td>\n",
       "    </tr>\n",
       "    <tr>\n",
       "      <th>2306</th>\n",
       "      <td>Delicious Yahoo Mail Gmail Newsvine Digg Frien...</td>\n",
       "      <td>Delicious Yahoo Mail Gmail Newsvine Digg Frien...</td>\n",
       "      <td>https://www.pakistantravelblog.com/top-6-touri...</td>\n",
       "    </tr>\n",
       "  </tbody>\n",
       "</table>\n",
       "<p>418 rows × 3 columns</p>\n",
       "</div>"
      ]
     },
     "execution_count": 30,
     "metadata": {},
     "output_type": "execute_result"
    }
   ],
   "execution_count": 30
  },
  {
   "metadata": {
    "ExecuteTime": {
     "end_time": "2025-07-31T02:12:15.786024Z",
     "start_time": "2025-07-31T02:12:15.776611Z"
    }
   },
   "cell_type": "code",
   "source": "noun_df.shape",
   "id": "3f6894bb97308bd8",
   "outputs": [
    {
     "data": {
      "text/plain": [
       "(1855, 3)"
      ]
     },
     "execution_count": 31,
     "metadata": {},
     "output_type": "execute_result"
    }
   ],
   "execution_count": 31
  },
  {
   "metadata": {
    "ExecuteTime": {
     "end_time": "2025-07-31T02:12:26.131826Z",
     "start_time": "2025-07-31T02:12:26.121952Z"
    }
   },
   "cell_type": "code",
   "source": "noun_df.info()",
   "id": "4731836df4eddacf",
   "outputs": [
    {
     "name": "stdout",
     "output_type": "stream",
     "text": [
      "<class 'pandas.core.frame.DataFrame'>\n",
      "Index: 1855 entries, 0 to 2307\n",
      "Data columns (total 3 columns):\n",
      " #   Column       Non-Null Count  Dtype \n",
      "---  ------       --------------  ----- \n",
      " 0   noun_phrase  1855 non-null   object\n",
      " 1   sentence     1855 non-null   object\n",
      " 2   source       1855 non-null   object\n",
      "dtypes: object(3)\n",
      "memory usage: 58.0+ KB\n"
     ]
    }
   ],
   "execution_count": 32
  },
  {
   "metadata": {
    "ExecuteTime": {
     "end_time": "2025-07-31T02:14:07.325298Z",
     "start_time": "2025-07-31T02:14:07.317263Z"
    }
   },
   "cell_type": "code",
   "source": [
    "duplicates = noun_df[noun_df.duplicated()]\n",
    "print(f\"Number of duplicate rows: {len(duplicates)}\")\n",
    "print(duplicates)"
   ],
   "id": "3776651783cd5a31",
   "outputs": [
    {
     "name": "stdout",
     "output_type": "stream",
     "text": [
      "Number of duplicate rows: 0\n",
      "Empty DataFrame\n",
      "Columns: [noun_phrase, sentence, source]\n",
      "Index: []\n"
     ]
    }
   ],
   "execution_count": 35
  },
  {
   "metadata": {
    "ExecuteTime": {
     "end_time": "2025-07-31T02:14:35.511876Z",
     "start_time": "2025-07-31T02:14:35.502188Z"
    }
   },
   "cell_type": "code",
   "source": [
    "adj_duplicates = adj_noun_df[adj_noun_df.duplicated()]\n",
    "print(f\"Number of duplicate rows in adjective-noun phrases: {len(adj_duplicates)}\")\n",
    "print(adj_duplicates)"
   ],
   "id": "c26ad68267599cc3",
   "outputs": [
    {
     "name": "stdout",
     "output_type": "stream",
     "text": [
      "Number of duplicate rows in adjective-noun phrases: 0\n",
      "Empty DataFrame\n",
      "Columns: [adj_noun_phrase, sentence, source]\n",
      "Index: []\n"
     ]
    }
   ],
   "execution_count": 36
  },
  {
   "metadata": {
    "ExecuteTime": {
     "end_time": "2025-07-31T02:15:12.553580Z",
     "start_time": "2025-07-31T02:15:12.544369Z"
    }
   },
   "cell_type": "code",
   "source": [
    "print(\"=== Adjective-Noun Phrases DataFrame ===\")\n",
    "print(f\"Shape: {adj_noun_df.shape}\")\n",
    "print(f\"Columns: {list(adj_noun_df.columns)}\")\n",
    "print(\"\\nFirst 5 rows:\")\n",
    "print(adj_noun_df.head())\n",
    "print(\"\\nData types:\")\n",
    "print(adj_noun_df.dtypes)\n",
    "print(\"\\n\" + \"=\"*50)"
   ],
   "id": "149bd403d8d6d75d",
   "outputs": [
    {
     "name": "stdout",
     "output_type": "stream",
     "text": [
      "=== Adjective-Noun Phrases DataFrame ===\n",
      "Shape: (659, 3)\n",
      "Columns: ['adj_noun_phrase', 'sentence', 'source']\n",
      "\n",
      "First 5 rows:\n",
      "     adj_noun_phrase                                           sentence  \\\n",
      "0  the northern part  Some people might want to skip the city and ju...   \n",
      "1      northern part  Some people might want to skip the city and ju...   \n",
      "3        other parts  Some people might want to skip the city and ju...   \n",
      "5  any other capital  Islamabad is not just like any other capital c...   \n",
      "6      other capital  Islamabad is not just like any other capital c...   \n",
      "\n",
      "                                              source  \n",
      "0  https://travelwithmansoureh.com/blog/travel-gu...  \n",
      "1  https://travelwithmansoureh.com/blog/travel-gu...  \n",
      "3  https://travelwithmansoureh.com/blog/travel-gu...  \n",
      "5  https://travelwithmansoureh.com/blog/travel-gu...  \n",
      "6  https://travelwithmansoureh.com/blog/travel-gu...  \n",
      "\n",
      "Data types:\n",
      "adj_noun_phrase    object\n",
      "sentence           object\n",
      "source             object\n",
      "dtype: object\n",
      "\n",
      "==================================================\n"
     ]
    }
   ],
   "execution_count": 38
  },
  {
   "metadata": {
    "ExecuteTime": {
     "end_time": "2025-07-31T02:15:28.845118Z",
     "start_time": "2025-07-31T02:15:28.836167Z"
    }
   },
   "cell_type": "code",
   "source": [
    "print(\"=== Noun Phrases DataFrame ===\")\n",
    "print(f\"Shape: {noun_df.shape}\")\n",
    "print(f\"Columns: {list(noun_df.columns)}\")\n",
    "print(\"\\nFirst 5 rows:\")\n",
    "print(noun_df.head())\n",
    "print(\"\\nData types:\")\n",
    "print(noun_df.dtypes)"
   ],
   "id": "7accb6dedc98569d",
   "outputs": [
    {
     "name": "stdout",
     "output_type": "stream",
     "text": [
      "=== Noun Phrases DataFrame ===\n",
      "Shape: (1855, 3)\n",
      "Columns: ['noun_phrase', 'sentence', 'source']\n",
      "\n",
      "First 5 rows:\n",
      "                                  noun_phrase  \\\n",
      "0  EN English FA Farsi AR Arabic Travel Guide   \n",
      "1                                      Places   \n",
      "2                                   Islamabad   \n",
      "3                                      Things   \n",
      "4                                         Nov   \n",
      "\n",
      "                                            sentence  \\\n",
      "0  EN English FA Farsi AR Arabic Travel Guide: Pl...   \n",
      "1  EN English FA Farsi AR Arabic Travel Guide: Pl...   \n",
      "2  EN English FA Farsi AR Arabic Travel Guide: Pl...   \n",
      "3  EN English FA Farsi AR Arabic Travel Guide: Pl...   \n",
      "4  EN English FA Farsi AR Arabic Travel Guide: Pl...   \n",
      "\n",
      "                                              source  \n",
      "0  https://travelwithmansoureh.com/blog/travel-gu...  \n",
      "1  https://travelwithmansoureh.com/blog/travel-gu...  \n",
      "2  https://travelwithmansoureh.com/blog/travel-gu...  \n",
      "3  https://travelwithmansoureh.com/blog/travel-gu...  \n",
      "4  https://travelwithmansoureh.com/blog/travel-gu...  \n",
      "\n",
      "Data types:\n",
      "noun_phrase    object\n",
      "sentence       object\n",
      "source         object\n",
      "dtype: object\n"
     ]
    }
   ],
   "execution_count": 39
  }
 ],
 "metadata": {
  "kernelspec": {
   "display_name": "Python 3",
   "language": "python",
   "name": "python3"
  },
  "language_info": {
   "codemirror_mode": {
    "name": "ipython",
    "version": 2
   },
   "file_extension": ".py",
   "mimetype": "text/x-python",
   "name": "python",
   "nbconvert_exporter": "python",
   "pygments_lexer": "ipython2",
   "version": "2.7.6"
  }
 },
 "nbformat": 4,
 "nbformat_minor": 5
}
