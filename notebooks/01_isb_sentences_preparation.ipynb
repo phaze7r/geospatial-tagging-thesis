{
 "cells": [
  {
   "cell_type": "code",
   "id": "initial_id",
   "metadata": {
    "collapsed": true,
    "ExecuteTime": {
     "end_time": "2025-07-30T05:53:03.963930Z",
     "start_time": "2025-07-30T05:53:03.253601Z"
    }
   },
   "source": [
    "import pandas as pd\n",
    "\n",
    "df_sentences = pd.read_csv('../data/islamabad_sentences.csv')\n",
    "print(df_sentences.head())"
   ],
   "outputs": [
    {
     "name": "stdout",
     "output_type": "stream",
     "text": [
      "                                            sentence  \\\n",
      "0  EN English FA Farsi AR Arabic Travel Guide: Pl...   \n",
      "1  Some people might want to skip the city and ju...   \n",
      "2  I already wrote about what you need to know be...   \n",
      "3  For this reason, in this article, I will mainl...   \n",
      "4  Islamabad is not just like any other capital c...   \n",
      "\n",
      "                                              source  \n",
      "0  https://travelwithmansoureh.com/blog/travel-gu...  \n",
      "1  https://travelwithmansoureh.com/blog/travel-gu...  \n",
      "2  https://travelwithmansoureh.com/blog/travel-gu...  \n",
      "3  https://travelwithmansoureh.com/blog/travel-gu...  \n",
      "4  https://travelwithmansoureh.com/blog/travel-gu...  \n"
     ]
    }
   ],
   "execution_count": 1
  },
  {
   "metadata": {},
   "cell_type": "code",
   "outputs": [],
   "execution_count": null,
   "source": "",
   "id": "d8a30e1af45d6571"
  }
 ],
 "metadata": {
  "kernelspec": {
   "display_name": "Python 3",
   "language": "python",
   "name": "python3"
  },
  "language_info": {
   "codemirror_mode": {
    "name": "ipython",
    "version": 2
   },
   "file_extension": ".py",
   "mimetype": "text/x-python",
   "name": "python",
   "nbconvert_exporter": "python",
   "pygments_lexer": "ipython2",
   "version": "2.7.6"
  }
 },
 "nbformat": 4,
 "nbformat_minor": 5
}
