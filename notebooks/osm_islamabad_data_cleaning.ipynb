{
 "cells": [
  {
   "cell_type": "code",
   "execution_count": 1,
   "id": "2a991b6608044266",
   "metadata": {},
   "outputs": [],
   "source": [
    "import pandas as pd"
   ]
  },
  {
   "cell_type": "code",
   "execution_count": 6,
   "id": "260cdf64-3951-4bf1-a8e9-08bfaa8f9b99",
   "metadata": {},
   "outputs": [],
   "source": [
    "df = pd.read_csv('../data/islamabad_osm_data.csv')"
   ]
  },
  {
   "cell_type": "code",
   "execution_count": 7,
   "id": "54f2c42b-2361-4a5a-85b5-db2aac511d72",
   "metadata": {},
   "outputs": [
    {
     "name": "stdout",
     "output_type": "stream",
     "text": [
      "Original dataset shape: (22950, 17)\n"
     ]
    }
   ],
   "source": [
    "print(\"Original dataset shape:\", df.shape)"
   ]
  },
  {
   "cell_type": "code",
   "execution_count": 8,
   "id": "e4302ea0-3286-44b4-a9c8-364af7436661",
   "metadata": {},
   "outputs": [],
   "source": [
    "# Define Islamabad bounding box coordinates\n",
    "# Format: min_lat, min_lon, max_lat, max_lon\n",
    "min_lat, min_lon, max_lat, max_lon = 33.4734, 72.8397, 33.7480, 73.2047"
   ]
  },
  {
   "cell_type": "code",
   "execution_count": 9,
   "id": "4d089ad5-931b-4d7d-953c-ea518f66a0d7",
   "metadata": {},
   "outputs": [],
   "source": [
    "# Filter data within Islamabad bounding box\n",
    "islamabad_filter = (\n",
    "    (df['latitude'] >= min_lat) & \n",
    "    (df['latitude'] <= max_lat) & \n",
    "    (df['longitude'] >= min_lon) & \n",
    "    (df['longitude'] <= max_lon)\n",
    ")\n",
    "df_cleaned = df[islamabad_filter].copy()"
   ]
  },
  {
   "cell_type": "code",
   "execution_count": 10,
   "id": "4dc26a9e-6f2c-427c-8aea-1c211d59a8dd",
   "metadata": {},
   "outputs": [
    {
     "name": "stdout",
     "output_type": "stream",
     "text": [
      "After coordinate filtering: (5240, 17)\n",
      "Removed 17710 rows (77.2%)\n"
     ]
    }
   ],
   "source": [
    "print(f\"After coordinate filtering: {df_cleaned.shape}\")\n",
    "print(f\"Removed {df.shape[0] - df_cleaned.shape[0]} rows ({((df.shape[0] - df_cleaned.shape[0])/df.shape[0]*100):.1f}%)\")"
   ]
  },
  {
   "cell_type": "code",
   "execution_count": 11,
   "id": "68e57c97-0dc1-40b3-b5f8-0df41ed6e0f0",
   "metadata": {},
   "outputs": [
    {
     "name": "stdout",
     "output_type": "stream",
     "text": [
      "\n",
      "Missing values in key columns:\n",
      "description: 0 (0.0%)\n",
      "osm_tag_key: 0 (0.0%)\n",
      "osm_tag_value: 0 (0.0%)\n",
      "latitude: 0 (0.0%)\n",
      "longitude: 0 (0.0%)\n"
     ]
    }
   ],
   "source": [
    "# Data quality checks\n",
    "print(\"\\nMissing values in key columns:\")\n",
    "for col in ['description', 'osm_tag_key', 'osm_tag_value', 'latitude', 'longitude']:\n",
    "    missing = df_cleaned[col].isnull().sum()\n",
    "    print(f\"{col}: {missing} ({missing/len(df_cleaned)*100:.1f}%)\")"
   ]
  },
  {
   "cell_type": "code",
   "execution_count": 12,
   "id": "a956ff02-a97d-400b-b4e3-3ab21b5e76d6",
   "metadata": {},
   "outputs": [
    {
     "name": "stdout",
     "output_type": "stream",
     "text": [
      "\n",
      "Duplicate rows: 0\n"
     ]
    }
   ],
   "source": [
    "print(f\"\\nDuplicate rows: {df_cleaned.duplicated().sum()}\")"
   ]
  },
  {
   "cell_type": "code",
   "execution_count": 13,
   "id": "b60c6195-0b51-46b0-8816-3d2d25eacd00",
   "metadata": {},
   "outputs": [
    {
     "name": "stdout",
     "output_type": "stream",
     "text": [
      "\n",
      "Language distribution:\n",
      "language\n",
      "English    4679\n",
      "Urdu        560\n",
      "Mixed         1\n",
      "Name: count, dtype: int64\n",
      "\n",
      "Top OSM tag keys:\n",
      "osm_tag_key\n",
      "amenity    3246\n",
      "shop       1086\n",
      "tourism     559\n",
      "leisure     349\n",
      "Name: count, dtype: int64\n",
      "\n",
      "Top OSM tag values:\n",
      "osm_tag_value\n",
      "place_of_worship    514\n",
      "restaurant          464\n",
      "bank                413\n",
      "school              379\n",
      "park                197\n",
      "fuel                191\n",
      "fast_food           140\n",
      "supermarket         139\n",
      "college             135\n",
      "hospital            134\n",
      "Name: count, dtype: int64\n"
     ]
    }
   ],
   "source": [
    "print(\"\\nLanguage distribution:\")\n",
    "print(df_cleaned['language'].value_counts())\n",
    "\n",
    "print(\"\\nTop OSM tag keys:\")\n",
    "print(df_cleaned['osm_tag_key'].value_counts().head(10))\n",
    "\n",
    "print(\"\\nTop OSM tag values:\")\n",
    "print(df_cleaned['osm_tag_value'].value_counts().head(10))"
   ]
  },
  {
   "cell_type": "code",
   "execution_count": 14,
   "id": "b23850fb-521b-4a2e-8135-7f327e14c45c",
   "metadata": {},
   "outputs": [
    {
     "name": "stdout",
     "output_type": "stream",
     "text": [
      "\n",
      "Final dataset shape: (5240, 17)\n"
     ]
    }
   ],
   "source": [
    "# Remove rows with missing critical information\n",
    "df_final = df_cleaned.dropna(subset=['description', 'osm_tag_key', 'osm_tag_value', 'latitude', 'longitude']).copy()\n",
    "\n",
    "print(f\"\\nFinal dataset shape: {df_final.shape}\")"
   ]
  },
  {
   "cell_type": "code",
   "execution_count": 15,
   "id": "85d014b1-97e4-4653-bc0a-510c7caa4bd9",
   "metadata": {},
   "outputs": [
    {
     "name": "stdout",
     "output_type": "stream",
     "text": [
      "\n",
      "✅ Cleaned datasets saved as 'osm_islamabad_cleaned.xlsx' and 'osm_islamabad_cleaned.csv' in the data directory.\n"
     ]
    }
   ],
   "source": [
    "# Save cleaned data\n",
    "df_final.to_excel('../data/osm_islamabad_cleaned.xlsx', index=False)\n",
    "df_final.to_csv('../data/osm_islamabad_cleaned.csv', index=False)\n",
    "\n",
    "print(\"\\n✅ Cleaned datasets saved as 'osm_islamabad_cleaned.xlsx' and 'osm_islamabad_cleaned.csv' in the data directory.\")"
   ]
  },
  {
   "cell_type": "code",
   "execution_count": 16,
   "id": "8ca1e4ca-adef-4b9c-b9d0-f5fb5436aac4",
   "metadata": {},
   "outputs": [],
   "source": [
    "df =pd.read_csv('../data/osm_islamabad_cleaned.csv')"
   ]
  },
  {
   "cell_type": "code",
   "execution_count": 19,
   "id": "7aba6b50-da2f-45d6-914c-6a9c6e3cd600",
   "metadata": {},
   "outputs": [
    {
     "name": "stdout",
     "output_type": "stream",
     "text": [
      "First 5 rows of the cleaned Islamabad data:\n",
      "     osm_id element_type   category                description  \\\n",
      "0  61146664         node  amenities   عسکری بینک (Askari Bank)   \n",
      "1  61146673         node  amenities    الائیڈ بینک لمیٹڈ (ABL)   \n",
      "2  61146691         node  amenities            United Bank Ltd   \n",
      "3  61146835         node  amenities  Total Parco , F-10 Markaz   \n",
      "4  98166308         node  amenities     Caltex Filling Station   \n",
      "\n",
      "                        name      name_en            name_ur language  \\\n",
      "0                 عسکری بینک  Askari Bank         عسکری بینک     Urdu   \n",
      "1          الائیڈ بینک لمیٹڈ          ABL  الائیڈ بینک لمیٹڈ     Urdu   \n",
      "2            United Bank Ltd          NaN                NaN  English   \n",
      "3  Total Parco , F-10 Markaz          NaN                NaN  English   \n",
      "4     Caltex Filling Station          NaN                NaN  English   \n",
      "\n",
      "    location osm_tag_key osm_tag_value source  \\\n",
      "0  Islamabad     amenity          bank    OSM   \n",
      "1  Islamabad     amenity          bank    OSM   \n",
      "2  Islamabad     amenity          bank    OSM   \n",
      "3  Islamabad     amenity          fuel    OSM   \n",
      "4  Islamabad     amenity          fuel    OSM   \n",
      "\n",
      "                                      coordinates   latitude  longitude  \\\n",
      "0  [Decimal('73.0112954'), Decimal('33.6980860')]  33.698086  73.011295   \n",
      "1  [Decimal('73.0105887'), Decimal('33.6976525')]  33.697652  73.010589   \n",
      "2  [Decimal('73.0118772'), Decimal('33.6960411')]  33.696041  73.011877   \n",
      "3  [Decimal('73.0112495'), Decimal('33.6988403')]  33.698840  73.011250   \n",
      "4  [Decimal('73.0944042'), Decimal('33.5846699')]  33.584670  73.094404   \n",
      "\n",
      "                                            all_tags  \\\n",
      "0  {'addr:city': 'اسلام آباد', 'addr:city:ar': 'إ...   \n",
      "1  {'addr:city': 'اسلام آباد', 'addr:city:ar': 'إ...   \n",
      "2  {'addr:city': 'اسلام آباد', 'addr:city:ar': 'إ...   \n",
      "3  {'addr:city': 'اسلام آباد', 'addr:city:ar': 'إ...   \n",
      "4  {'amenity': 'fuel', 'fuel:cng': 'yes', 'name':...   \n",
      "\n",
      "                 collected_at  \n",
      "0  2025-07-29T08:08:59.744749  \n",
      "1  2025-07-29T08:08:59.744749  \n",
      "2  2025-07-29T08:08:59.744749  \n",
      "3  2025-07-29T08:08:59.744749  \n",
      "4  2025-07-29T08:08:59.744749  \n"
     ]
    }
   ],
   "source": [
    "print(\"First 5 rows of the cleaned Islamabad data:\")\n",
    "print(df_cleaned.head())"
   ]
  },
  {
   "cell_type": "code",
   "execution_count": 20,
   "id": "97ed33a9-f206-429b-a1ee-b3f286cb9886",
   "metadata": {},
   "outputs": [
    {
     "name": "stdout",
     "output_type": "stream",
     "text": [
      "\n",
      "DataFrame Info:\n",
      "<class 'pandas.core.frame.DataFrame'>\n",
      "Index: 5240 entries, 0 to 22916\n",
      "Data columns (total 17 columns):\n",
      " #   Column         Non-Null Count  Dtype  \n",
      "---  ------         --------------  -----  \n",
      " 0   osm_id         5240 non-null   int64  \n",
      " 1   element_type   5240 non-null   object \n",
      " 2   category       5240 non-null   object \n",
      " 3   description    5240 non-null   object \n",
      " 4   name           5205 non-null   object \n",
      " 5   name_en        853 non-null    object \n",
      " 6   name_ur        546 non-null    object \n",
      " 7   language       5240 non-null   object \n",
      " 8   location       5240 non-null   object \n",
      " 9   osm_tag_key    5240 non-null   object \n",
      " 10  osm_tag_value  5240 non-null   object \n",
      " 11  source         5240 non-null   object \n",
      " 12  coordinates    5240 non-null   object \n",
      " 13  latitude       5240 non-null   float64\n",
      " 14  longitude      5240 non-null   float64\n",
      " 15  all_tags       5240 non-null   object \n",
      " 16  collected_at   5240 non-null   object \n",
      "dtypes: float64(2), int64(1), object(14)\n",
      "memory usage: 736.9+ KB\n"
     ]
    }
   ],
   "source": [
    "# Display basic information about the DataFrame (columns, non-null counts, dtypes)\n",
    "print(\"\\nDataFrame Info:\")\n",
    "df_cleaned.info()"
   ]
  },
  {
   "cell_type": "code",
   "execution_count": 21,
   "id": "2ecac78c-e428-4a05-81ee-4377da2570fd",
   "metadata": {},
   "outputs": [
    {
     "name": "stdout",
     "output_type": "stream",
     "text": [
      "\n",
      "Descriptive Statistics:\n",
      "             osm_id     latitude    longitude\n",
      "count  5.240000e+03  5240.000000  5240.000000\n",
      "mean   4.275751e+09    33.648465    73.054246\n",
      "std    3.227400e+09     0.056312     0.055212\n",
      "min    8.058334e+06    33.474125    72.840721\n",
      "25%    1.295250e+09    33.613044    73.018659\n",
      "50%    4.880224e+09    33.652743    73.057927\n",
      "75%    5.617898e+09    33.693306    73.082034\n",
      "max    1.300255e+10    33.747926    73.204302\n",
      "\n",
      "Unique values in 'language' column:\n",
      "language\n",
      "English    4679\n",
      "Urdu        560\n",
      "Mixed         1\n",
      "Name: count, dtype: int64\n",
      "\n",
      "Unique values in 'osm_tag_key' column (top 10):\n",
      "osm_tag_key\n",
      "amenity    3246\n",
      "shop       1086\n",
      "tourism     559\n",
      "leisure     349\n",
      "Name: count, dtype: int64\n"
     ]
    }
   ],
   "source": [
    "# Display descriptive statistics for numerical columns\n",
    "print(\"\\nDescriptive Statistics:\")\n",
    "print(df_cleaned.describe())\n",
    "\n",
    "# You can also check specific columns if you have concerns\n",
    "# For example, to check unique values in 'language'\n",
    "print(\"\\nUnique values in 'language' column:\")\n",
    "print(df_cleaned['language'].value_counts())\n",
    "\n",
    "# Or to check unique values in 'osm_tag_key'\n",
    "print(\"\\nUnique values in 'osm_tag_key' column (top 10):\")\n",
    "print(df_cleaned['osm_tag_key'].value_counts().head(10))"
   ]
  }
 ],
 "metadata": {
  "kernelspec": {
   "display_name": "Python 3 (ipykernel)",
   "language": "python",
   "name": "python3"
  },
  "language_info": {
   "codemirror_mode": {
    "name": "ipython",
    "version": 3
   },
   "file_extension": ".py",
   "mimetype": "text/x-python",
   "name": "python",
   "nbconvert_exporter": "python",
   "pygments_lexer": "ipython3",
   "version": "3.11.7"
  }
 },
 "nbformat": 4,
 "nbformat_minor": 5
}
